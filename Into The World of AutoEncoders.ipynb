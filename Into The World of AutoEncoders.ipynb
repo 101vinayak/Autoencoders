{
 "cells": [
  {
   "cell_type": "markdown",
   "metadata": {},
   "source": [
    "# Building Autoencoders in Keras\n",
    "    \n",
    "    A Simple autoencoder based on a fully-connected layer\n",
    "    A Sparse autoencoder\n",
    "    A Deep fully-connected autoencoder\n",
    "    A Deep convolutional autoencoder\n",
    "    An Image denoising model\n",
    "    A Sequence-to-sequence autoencoder\n",
    "    A Variational autoencoder"
   ]
  },
  {
   "cell_type": "code",
   "execution_count": 1,
   "metadata": {},
   "outputs": [],
   "source": [
    "## \"Autoencoding\" is a data compression algorithm where the compression and decompression functions are \n",
    "## 1) data-specific, 2) lossy, and 3) learned automatically from examples rather than engineered by a human.\n",
    "## Additionally, in almost all contexts where the term \"autoencoder\" is used, the compression and decompression\n",
    "## functions are implemented with neural networks."
   ]
  },
  {
   "cell_type": "code",
   "execution_count": 2,
   "metadata": {},
   "outputs": [],
   "source": [
    "## One setback is Autoencoders are lossy, i.e. they losse sm info when compressing data,\n",
    "## and so the new i8mage is a little degraded"
   ]
  },
  {
   "cell_type": "markdown",
   "metadata": {},
   "source": [
    "### A Simple autoencoder"
   ]
  },
  {
   "cell_type": "code",
   "execution_count": 1,
   "metadata": {},
   "outputs": [],
   "source": [
    "from tensorflow.keras.layers import Input, Dense\n",
    "from tensorflow.keras.models import Model\n",
    "\n",
    "# this is the size of our encoded representations\n",
    "encoding_dim = 32  # 32 floats -> compression of factor 24.5, assuming the input is 784 floats\n",
    "\n",
    "# this is our input placeholder\n",
    "input_img = Input(shape=(784,))\n",
    "# \"encoded\" is the encoded representation of the input\n",
    "encoded = Dense(encoding_dim, activation='relu')(input_img)\n",
    "# \"decoded\" is the lossy reconstruction of the input\n",
    "decoded = Dense(784, activation='sigmoid')(encoded)\n",
    "\n",
    "# this model maps an input to its reconstruction\n",
    "autoencoder = Model(input_img, decoded)"
   ]
  },
  {
   "cell_type": "code",
   "execution_count": 3,
   "metadata": {},
   "outputs": [],
   "source": [
    "# this model maps an input to its encoded representation\n",
    "encoder = Model(input_img, encoded)\n",
    "\n",
    "# create a placeholder for an encoded (32-dimensional) input\n",
    "encoded_input = Input(shape=(encoding_dim,))\n",
    "# retrieve the last layer of the autoencoder model\n",
    "decoder_layer = autoencoder.layers[-1]\n",
    "# create the decoder model\n",
    "decoder = Model(encoded_input, decoder_layer(encoded_input))\n",
    "\n",
    "autoencoder.compile(optimizer='adam', loss='mse')"
   ]
  },
  {
   "cell_type": "code",
   "execution_count": 2,
   "metadata": {},
   "outputs": [
    {
     "name": "stderr",
     "output_type": "stream",
     "text": [
      "Using TensorFlow backend.\n"
     ]
    },
    {
     "name": "stdout",
     "output_type": "stream",
     "text": [
      "(60000, 784)\n",
      "(10000, 784)\n"
     ]
    }
   ],
   "source": [
    "## Loading the dataset\n",
    "\n",
    "from keras.datasets import mnist\n",
    "import numpy as np\n",
    "(x_train, _), (x_test, _) = mnist.load_data()\n",
    "\n",
    "x_train = x_train.astype('float32') / 255.\n",
    "x_test = x_test.astype('float32') / 255.\n",
    "x_train = x_train.reshape((len(x_train), np.prod(x_train.shape[1:])))\n",
    "x_test = x_test.reshape((len(x_test), np.prod(x_test.shape[1:])))\n",
    "\n",
    "print (x_train.shape)\n",
    "print (x_test.shape)"
   ]
  },
  {
   "cell_type": "code",
   "execution_count": 4,
   "metadata": {
    "scrolled": true
   },
   "outputs": [
    {
     "name": "stdout",
     "output_type": "stream",
     "text": [
      "Train on 60000 samples, validate on 10000 samples\n",
      "Epoch 1/50\n",
      "60000/60000 [==============================] - 3s 44us/sample - loss: 0.0705 - val_loss: 0.0405\n",
      "Epoch 2/50\n",
      "60000/60000 [==============================] - 1s 14us/sample - loss: 0.0346 - val_loss: 0.0290\n",
      "Epoch 3/50\n",
      "60000/60000 [==============================] - 1s 13us/sample - loss: 0.0260 - val_loss: 0.0229\n",
      "Epoch 4/50\n",
      "60000/60000 [==============================] - 1s 14us/sample - loss: 0.0213 - val_loss: 0.0192\n",
      "Epoch 5/50\n",
      "60000/60000 [==============================] - 1s 14us/sample - loss: 0.0183 - val_loss: 0.0168\n",
      "Epoch 6/50\n",
      "60000/60000 [==============================] - 1s 15us/sample - loss: 0.0162 - val_loss: 0.0150\n",
      "Epoch 7/50\n",
      "60000/60000 [==============================] - 1s 22us/sample - loss: 0.0146 - val_loss: 0.0136\n",
      "Epoch 8/50\n",
      "60000/60000 [==============================] - 1s 21us/sample - loss: 0.0133 - val_loss: 0.0125\n",
      "Epoch 9/50\n",
      "60000/60000 [==============================] - 1s 19us/sample - loss: 0.0124 - val_loss: 0.0117\n",
      "Epoch 10/50\n",
      "60000/60000 [==============================] - 1s 20us/sample - loss: 0.0118 - val_loss: 0.0112\n",
      "Epoch 11/50\n",
      "60000/60000 [==============================] - 1s 21us/sample - loss: 0.0113 - val_loss: 0.0108\n",
      "Epoch 12/50\n",
      "60000/60000 [==============================] - 1s 20us/sample - loss: 0.0110 - val_loss: 0.0106\n",
      "Epoch 13/50\n",
      "60000/60000 [==============================] - 1s 19us/sample - loss: 0.0108 - val_loss: 0.0104\n",
      "Epoch 14/50\n",
      "60000/60000 [==============================] - 1s 20us/sample - loss: 0.0107 - val_loss: 0.0103\n",
      "Epoch 15/50\n",
      "60000/60000 [==============================] - 1s 19us/sample - loss: 0.0106 - val_loss: 0.0102\n",
      "Epoch 16/50\n",
      "60000/60000 [==============================] - 1s 20us/sample - loss: 0.0105 - val_loss: 0.0101\n",
      "Epoch 17/50\n",
      "60000/60000 [==============================] - 1s 20us/sample - loss: 0.0104 - val_loss: 0.0101\n",
      "Epoch 18/50\n",
      "60000/60000 [==============================] - 1s 20us/sample - loss: 0.0104 - val_loss: 0.0100\n",
      "Epoch 19/50\n",
      "60000/60000 [==============================] - 1s 21us/sample - loss: 0.0103 - val_loss: 0.0100\n",
      "Epoch 20/50\n",
      "60000/60000 [==============================] - 1s 20us/sample - loss: 0.0103 - val_loss: 0.0100\n",
      "Epoch 21/50\n",
      "60000/60000 [==============================] - 1s 21us/sample - loss: 0.0103 - val_loss: 0.0100\n",
      "Epoch 22/50\n",
      "60000/60000 [==============================] - 1s 22us/sample - loss: 0.0102 - val_loss: 0.0100\n",
      "Epoch 23/50\n",
      "60000/60000 [==============================] - 1s 20us/sample - loss: 0.0102 - val_loss: 0.0099\n",
      "Epoch 24/50\n",
      "60000/60000 [==============================] - 1s 19us/sample - loss: 0.0102 - val_loss: 0.0099\n",
      "Epoch 25/50\n",
      "60000/60000 [==============================] - 1s 20us/sample - loss: 0.0102 - val_loss: 0.0099\n",
      "Epoch 26/50\n",
      "60000/60000 [==============================] - 1s 19us/sample - loss: 0.0102 - val_loss: 0.0099\n",
      "Epoch 27/50\n",
      "60000/60000 [==============================] - 1s 19us/sample - loss: 0.0101 - val_loss: 0.0098\n",
      "Epoch 28/50\n",
      "60000/60000 [==============================] - 1s 20us/sample - loss: 0.0101 - val_loss: 0.0098\n",
      "Epoch 29/50\n",
      "60000/60000 [==============================] - 1s 20us/sample - loss: 0.0101 - val_loss: 0.0098\n",
      "Epoch 30/50\n",
      "60000/60000 [==============================] - 1s 20us/sample - loss: 0.0101 - val_loss: 0.0098\n",
      "Epoch 31/50\n",
      "60000/60000 [==============================] - 1s 21us/sample - loss: 0.0101 - val_loss: 0.0098\n",
      "Epoch 32/50\n",
      "60000/60000 [==============================] - 1s 20us/sample - loss: 0.0101 - val_loss: 0.0098\n",
      "Epoch 33/50\n",
      "60000/60000 [==============================] - 1s 21us/sample - loss: 0.0101 - val_loss: 0.0098\n",
      "Epoch 34/50\n",
      "60000/60000 [==============================] - 1s 21us/sample - loss: 0.0100 - val_loss: 0.0098\n",
      "Epoch 35/50\n",
      "60000/60000 [==============================] - 1s 22us/sample - loss: 0.0100 - val_loss: 0.0097\n",
      "Epoch 36/50\n",
      "60000/60000 [==============================] - 1s 20us/sample - loss: 0.0100 - val_loss: 0.0097\n",
      "Epoch 37/50\n",
      "60000/60000 [==============================] - 1s 20us/sample - loss: 0.0100 - val_loss: 0.0097\n",
      "Epoch 38/50\n",
      "60000/60000 [==============================] - 1s 21us/sample - loss: 0.0100 - val_loss: 0.0097\n",
      "Epoch 39/50\n",
      "60000/60000 [==============================] - 1s 21us/sample - loss: 0.0100 - val_loss: 0.0097\n",
      "Epoch 40/50\n",
      "60000/60000 [==============================] - 1s 22us/sample - loss: 0.0100 - val_loss: 0.0097\n",
      "Epoch 41/50\n",
      "60000/60000 [==============================] - 1s 22us/sample - loss: 0.0100 - val_loss: 0.0097\n",
      "Epoch 42/50\n",
      "60000/60000 [==============================] - 1s 22us/sample - loss: 0.0100 - val_loss: 0.0097\n",
      "Epoch 43/50\n",
      "60000/60000 [==============================] - 1s 21us/sample - loss: 0.0100 - val_loss: 0.0097\n",
      "Epoch 44/50\n",
      "60000/60000 [==============================] - 1s 20us/sample - loss: 0.0100 - val_loss: 0.0097\n",
      "Epoch 45/50\n",
      "60000/60000 [==============================] - 1s 20us/sample - loss: 0.0099 - val_loss: 0.0097\n",
      "Epoch 46/50\n",
      "60000/60000 [==============================] - 1s 19us/sample - loss: 0.0099 - val_loss: 0.0097\n",
      "Epoch 47/50\n",
      "60000/60000 [==============================] - 1s 19us/sample - loss: 0.0099 - val_loss: 0.0097\n",
      "Epoch 48/50\n",
      "60000/60000 [==============================] - 1s 19us/sample - loss: 0.0099 - val_loss: 0.0097\n",
      "Epoch 49/50\n",
      "60000/60000 [==============================] - 1s 19us/sample - loss: 0.0099 - val_loss: 0.0097\n",
      "Epoch 50/50\n",
      "60000/60000 [==============================] - 1s 19us/sample - loss: 0.0099 - val_loss: 0.0096\n"
     ]
    },
    {
     "data": {
      "text/plain": [
       "<tensorflow.python.keras.callbacks.History at 0x7f4ba43fe208>"
      ]
     },
     "execution_count": 4,
     "metadata": {},
     "output_type": "execute_result"
    }
   ],
   "source": [
    "## training the model\n",
    "\n",
    "autoencoder.fit(x_train, x_train,\n",
    "                epochs=50,\n",
    "                batch_size=256,\n",
    "                shuffle=True,\n",
    "                validation_data=(x_test, x_test))"
   ]
  },
  {
   "cell_type": "code",
   "execution_count": 6,
   "metadata": {},
   "outputs": [
    {
     "data": {
      "image/png": "[encoded data removed]",
      "text/plain": [
       "<Figure size 1440x288 with 20 Axes>"
      ]
     },
     "metadata": {
      "needs_background": "light"
     },
     "output_type": "display_data"
    }
   ],
   "source": [
    "# encode and decode some digits\n",
    "# note that we take them from the *test* set\n",
    "encoded_imgs = encoder.predict(x_test)\n",
    "decoded_imgs = decoder.predict(encoded_imgs)\n",
    "\n",
    "# use Matplotlib (don't ask)\n",
    "import matplotlib.pyplot as plt\n",
    "\n",
    "n = 10  # how many digits we will display\n",
    "plt.figure(figsize=(20, 4))\n",
    "for i in range(n):\n",
    "    # display original\n",
    "    ax = plt.subplot(2, n, i + 1)\n",
    "    plt.imshow(x_test[i].reshape(28, 28))\n",
    "    plt.gray()\n",
    "    ax.get_xaxis().set_visible(False)\n",
    "    ax.get_yaxis().set_visible(False)\n",
    "\n",
    "    # display reconstruction\n",
    "    ax = plt.subplot(2, n, i + 1 + n)\n",
    "    plt.imshow(decoded_imgs[i].reshape(28, 28))\n",
    "    plt.gray()\n",
    "    ax.get_xaxis().set_visible(False)\n",
    "    ax.get_yaxis().set_visible(False)\n",
    "plt.show()"
   ]
  },
  {
   "cell_type": "code",
   "execution_count": 27,
   "metadata": {},
   "outputs": [],
   "source": [
    "def plot_imgs(decoded_imgs):\n",
    "    \n",
    "    n = 10  # how many digits we will display\n",
    "    plt.figure(figsize=(20, 4))\n",
    "    for i in range(n):\n",
    "        # display original\n",
    "        ax = plt.subplot(2, n, i + 1)\n",
    "        plt.imshow(x_test[i].reshape(28, 28))\n",
    "        plt.gray()\n",
    "        ax.get_xaxis().set_visible(False)\n",
    "        ax.get_yaxis().set_visible(False)\n",
    "\n",
    "        # display reconstruction\n",
    "        ax = plt.subplot(2, n, i + 1 + n)\n",
    "        plt.imshow(decoded_imgs[i].reshape(28, 28))\n",
    "        plt.gray()\n",
    "        ax.get_xaxis().set_visible(False)\n",
    "        ax.get_yaxis().set_visible(False)\n",
    "    plt.show()"
   ]
  },
  {
   "cell_type": "markdown",
   "metadata": {},
   "source": [
    "### Adding a sparsity constraint on the encoded representations"
   ]
  },
  {
   "cell_type": "code",
   "execution_count": 11,
   "metadata": {},
   "outputs": [],
   "source": [
    "## What typically happens is that the hidden layer is learning an approx. of PCA (principal component analysis).\n",
    "## But another way to constrain the representations to be compact is to add a sparsity contraint on the activity\n",
    "## of the hidden representations, so fewer units would \"fire\" at a given time.\n",
    "## In Keras, this can be done by adding an activity_regularizer to our Dense layer"
   ]
  },
  {
   "cell_type": "code",
   "execution_count": 18,
   "metadata": {},
   "outputs": [],
   "source": [
    "from tensorflow.keras import regularizers\n",
    "\n",
    "encoding_dim = 32\n",
    "\n",
    "input_img = Input(shape=(784,))\n",
    "# add a Dense layer with a L1 activity regularizer\n",
    "encoded = Dense(encoding_dim, activation='relu',\n",
    "                activity_regularizer=regularizers.l1(10e-5))(input_img)\n",
    "decoded = Dense(784, activation='sigmoid')(encoded)\n",
    "\n",
    "autoencoder = Model(input_img, decoded)"
   ]
  },
  {
   "cell_type": "code",
   "execution_count": 19,
   "metadata": {
    "scrolled": true
   },
   "outputs": [
    {
     "name": "stdout",
     "output_type": "stream",
     "text": [
      "Train on 60000 samples, validate on 10000 samples\n",
      "Epoch 1/50\n",
      "60000/60000 [==============================] - 2s 29us/sample - loss: 0.0772 - val_loss: 0.0463\n",
      "Epoch 2/50\n",
      "60000/60000 [==============================] - 1s 19us/sample - loss: 0.0402 - val_loss: 0.0349\n",
      "Epoch 3/50\n",
      "60000/60000 [==============================] - 1s 19us/sample - loss: 0.0322 - val_loss: 0.0292\n",
      "Epoch 4/50\n",
      "60000/60000 [==============================] - 1s 20us/sample - loss: 0.0275 - val_loss: 0.0253\n",
      "Epoch 5/50\n",
      "60000/60000 [==============================] - 1s 20us/sample - loss: 0.0244 - val_loss: 0.0228\n",
      "Epoch 6/50\n",
      "60000/60000 [==============================] - 1s 20us/sample - loss: 0.0222 - val_loss: 0.0209\n",
      "Epoch 7/50\n",
      "60000/60000 [==============================] - 1s 19us/sample - loss: 0.0206 - val_loss: 0.0196\n",
      "Epoch 8/50\n",
      "60000/60000 [==============================] - 1s 19us/sample - loss: 0.0195 - val_loss: 0.0187\n",
      "Epoch 9/50\n",
      "60000/60000 [==============================] - 1s 20us/sample - loss: 0.0187 - val_loss: 0.0181\n",
      "Epoch 10/50\n",
      "60000/60000 [==============================] - 1s 21us/sample - loss: 0.0181 - val_loss: 0.0175\n",
      "Epoch 11/50\n",
      "60000/60000 [==============================] - 1s 20us/sample - loss: 0.0177 - val_loss: 0.0172\n",
      "Epoch 12/50\n",
      "60000/60000 [==============================] - 1s 20us/sample - loss: 0.0173 - val_loss: 0.0168\n",
      "Epoch 13/50\n",
      "60000/60000 [==============================] - 1s 19us/sample - loss: 0.0170 - val_loss: 0.0165\n",
      "Epoch 14/50\n",
      "60000/60000 [==============================] - 1s 19us/sample - loss: 0.0167 - val_loss: 0.0163\n",
      "Epoch 15/50\n",
      "60000/60000 [==============================] - 1s 20us/sample - loss: 0.0165 - val_loss: 0.0161\n",
      "Epoch 16/50\n",
      "60000/60000 [==============================] - 1s 19us/sample - loss: 0.0162 - val_loss: 0.0158\n",
      "Epoch 17/50\n",
      "60000/60000 [==============================] - 1s 20us/sample - loss: 0.0160 - val_loss: 0.0156\n",
      "Epoch 18/50\n",
      "60000/60000 [==============================] - 1s 21us/sample - loss: 0.0158 - val_loss: 0.0155\n",
      "Epoch 19/50\n",
      "60000/60000 [==============================] - 1s 19us/sample - loss: 0.0157 - val_loss: 0.0153\n",
      "Epoch 20/50\n",
      "60000/60000 [==============================] - 1s 19us/sample - loss: 0.0155 - val_loss: 0.0151\n",
      "Epoch 21/50\n",
      "60000/60000 [==============================] - 1s 18us/sample - loss: 0.0154 - val_loss: 0.0150\n",
      "Epoch 22/50\n",
      "60000/60000 [==============================] - 1s 19us/sample - loss: 0.0152 - val_loss: 0.0149\n",
      "Epoch 23/50\n",
      "60000/60000 [==============================] - 1s 20us/sample - loss: 0.0151 - val_loss: 0.0147\n",
      "Epoch 24/50\n",
      "60000/60000 [==============================] - 1s 20us/sample - loss: 0.0150 - val_loss: 0.0147\n",
      "Epoch 25/50\n",
      "60000/60000 [==============================] - 1s 20us/sample - loss: 0.0149 - val_loss: 0.0146\n",
      "Epoch 26/50\n",
      "60000/60000 [==============================] - 1s 20us/sample - loss: 0.0148 - val_loss: 0.0145\n",
      "Epoch 27/50\n",
      "60000/60000 [==============================] - 1s 20us/sample - loss: 0.0147 - val_loss: 0.0144\n",
      "Epoch 28/50\n",
      "60000/60000 [==============================] - 1s 19us/sample - loss: 0.0146 - val_loss: 0.0143\n",
      "Epoch 29/50\n",
      "60000/60000 [==============================] - 1s 21us/sample - loss: 0.0145 - val_loss: 0.0142\n",
      "Epoch 30/50\n",
      "60000/60000 [==============================] - 3s 44us/sample - loss: 0.0144 - val_loss: 0.0141\n",
      "Epoch 31/50\n",
      "60000/60000 [==============================] - 5s 89us/sample - loss: 0.0143 - val_loss: 0.0140\n",
      "Epoch 32/50\n",
      "60000/60000 [==============================] - 5s 81us/sample - loss: 0.0143 - val_loss: 0.0139\n",
      "Epoch 33/50\n",
      "60000/60000 [==============================] - 5s 80us/sample - loss: 0.0142 - val_loss: 0.0139\n",
      "Epoch 34/50\n",
      "60000/60000 [==============================] - 5s 76us/sample - loss: 0.0141 - val_loss: 0.0138\n",
      "Epoch 35/50\n",
      "60000/60000 [==============================] - 5s 82us/sample - loss: 0.0141 - val_loss: 0.0138\n",
      "Epoch 36/50\n",
      "60000/60000 [==============================] - 5s 86us/sample - loss: 0.0140 - val_loss: 0.0137\n",
      "Epoch 37/50\n",
      "60000/60000 [==============================] - 5s 84us/sample - loss: 0.0139 - val_loss: 0.0136\n",
      "Epoch 38/50\n",
      "60000/60000 [==============================] - 5s 86us/sample - loss: 0.0139 - val_loss: 0.0136\n",
      "Epoch 39/50\n",
      "60000/60000 [==============================] - 5s 85us/sample - loss: 0.0138 - val_loss: 0.0135\n",
      "Epoch 40/50\n",
      "60000/60000 [==============================] - 5s 89us/sample - loss: 0.0138 - val_loss: 0.0135\n",
      "Epoch 41/50\n",
      "60000/60000 [==============================] - 5s 85us/sample - loss: 0.0137 - val_loss: 0.0134\n",
      "Epoch 42/50\n",
      "60000/60000 [==============================] - 5s 86us/sample - loss: 0.0137 - val_loss: 0.0134\n",
      "Epoch 43/50\n",
      "60000/60000 [==============================] - 5s 85us/sample - loss: 0.0136 - val_loss: 0.0133\n",
      "Epoch 44/50\n",
      "60000/60000 [==============================] - 5s 85us/sample - loss: 0.0136 - val_loss: 0.0133\n",
      "Epoch 45/50\n",
      "60000/60000 [==============================] - 6s 92us/sample - loss: 0.0135 - val_loss: 0.0132\n",
      "Epoch 46/50\n",
      "60000/60000 [==============================] - 5s 89us/sample - loss: 0.0135 - val_loss: 0.0132\n",
      "Epoch 47/50\n",
      "60000/60000 [==============================] - 6s 93us/sample - loss: 0.0135 - val_loss: 0.0132\n",
      "Epoch 48/50\n",
      "60000/60000 [==============================] - 5s 91us/sample - loss: 0.0134 - val_loss: 0.0131\n",
      "Epoch 49/50\n",
      "60000/60000 [==============================] - 5s 82us/sample - loss: 0.0134 - val_loss: 0.0131\n",
      "Epoch 50/50\n",
      "60000/60000 [==============================] - 6s 92us/sample - loss: 0.0133 - val_loss: 0.0131\n"
     ]
    },
    {
     "data": {
      "text/plain": [
       "<tensorflow.python.keras.callbacks.History at 0x7fc0cb892be0>"
      ]
     },
     "execution_count": 19,
     "metadata": {},
     "output_type": "execute_result"
    }
   ],
   "source": [
    "autoencoder.compile(optimizer='adam', loss='mse')\n",
    "\n",
    "## training the model\n",
    "\n",
    "autoencoder.fit(x_train, x_train,\n",
    "                epochs=50,\n",
    "                batch_size=256,\n",
    "                shuffle=True,\n",
    "                validation_data=(x_test, x_test))"
   ]
  },
  {
   "cell_type": "code",
   "execution_count": 20,
   "metadata": {},
   "outputs": [
    {
     "data": {
      "image/png": "[encoded data removed]",
      "text/plain": [
       "<Figure size 1440x288 with 20 Axes>"
      ]
     },
     "metadata": {
      "needs_background": "light"
     },
     "output_type": "display_data"
    }
   ],
   "source": [
    "# encode and decode some digits\n",
    "# note that we take them from the *test* set\n",
    "encoded_imgs = encoder.predict(x_test)\n",
    "decoded_imgs = decoder.predict(encoded_imgs)\n",
    "\n",
    "# use Matplotlib (don't ask)\n",
    "import matplotlib.pyplot as plt\n",
    "\n",
    "n = 10  # how many digits we will display\n",
    "plt.figure(figsize=(20, 4))\n",
    "for i in range(n):\n",
    "    # display original\n",
    "    ax = plt.subplot(2, n, i + 1)\n",
    "    plt.imshow(x_test[i].reshape(28, 28))\n",
    "    plt.gray()\n",
    "    ax.get_xaxis().set_visible(False)\n",
    "    ax.get_yaxis().set_visible(False)\n",
    "\n",
    "    # display reconstruction\n",
    "    ax = plt.subplot(2, n, i + 1 + n)\n",
    "    plt.imshow(decoded_imgs[i].reshape(28, 28))\n",
    "    plt.gray()\n",
    "    ax.get_xaxis().set_visible(False)\n",
    "    ax.get_yaxis().set_visible(False)\n",
    "plt.show()"
   ]
  },
  {
   "cell_type": "markdown",
   "metadata": {},
   "source": [
    "### Deep autoencoder"
   ]
  },
  {
   "cell_type": "code",
   "execution_count": 21,
   "metadata": {},
   "outputs": [],
   "source": [
    "## We do not have to limit ourselves to a single layer as encoder or decoder, \n",
    "## we could instead use a stack of layers"
   ]
  },
  {
   "cell_type": "code",
   "execution_count": 22,
   "metadata": {},
   "outputs": [],
   "source": [
    "input_img = Input(shape=(784,))\n",
    "encoded = Dense(128, activation='relu')(input_img)\n",
    "encoded = Dense(64, activation='relu')(encoded)\n",
    "encoded = Dense(32, activation='relu')(encoded)\n",
    "\n",
    "decoded = Dense(64, activation='relu')(encoded)\n",
    "decoded = Dense(128, activation='relu')(decoded)\n",
    "decoded = Dense(784, activation='sigmoid')(decoded)"
   ]
  },
  {
   "cell_type": "code",
   "execution_count": 24,
   "metadata": {
    "scrolled": true
   },
   "outputs": [
    {
     "name": "stdout",
     "output_type": "stream",
     "text": [
      "Train on 60000 samples, validate on 10000 samples\n",
      "Epoch 1/100\n",
      "60000/60000 [==============================] - 11s 192us/sample - loss: 0.0641 - val_loss: 0.0383\n",
      "Epoch 2/100\n",
      "60000/60000 [==============================] - 9s 145us/sample - loss: 0.0319 - val_loss: 0.0262\n",
      "Epoch 3/100\n",
      "60000/60000 [==============================] - 8s 141us/sample - loss: 0.0237 - val_loss: 0.0211\n",
      "Epoch 4/100\n",
      "60000/60000 [==============================] - 9s 145us/sample - loss: 0.0203 - val_loss: 0.0184\n",
      "Epoch 5/100\n",
      "60000/60000 [==============================] - 9s 145us/sample - loss: 0.0181 - val_loss: 0.0169\n",
      "Epoch 6/100\n",
      "60000/60000 [==============================] - 9s 147us/sample - loss: 0.0168 - val_loss: 0.0158\n",
      "Epoch 7/100\n",
      "60000/60000 [==============================] - 9s 143us/sample - loss: 0.0158 - val_loss: 0.0150\n",
      "Epoch 8/100\n",
      "60000/60000 [==============================] - 9s 143us/sample - loss: 0.0150 - val_loss: 0.0143\n",
      "Epoch 9/100\n",
      "60000/60000 [==============================] - 8s 137us/sample - loss: 0.0144 - val_loss: 0.0136\n",
      "Epoch 10/100\n",
      "60000/60000 [==============================] - 8s 138us/sample - loss: 0.0138 - val_loss: 0.0132\n",
      "Epoch 11/100\n",
      "60000/60000 [==============================] - 8s 138us/sample - loss: 0.0133 - val_loss: 0.0128\n",
      "Epoch 12/100\n",
      "60000/60000 [==============================] - 8s 138us/sample - loss: 0.0129 - val_loss: 0.0125\n",
      "Epoch 13/100\n",
      "60000/60000 [==============================] - 8s 137us/sample - loss: 0.0126 - val_loss: 0.0121\n",
      "Epoch 14/100\n",
      "60000/60000 [==============================] - 5s 84us/sample - loss: 0.0122 - val_loss: 0.0117\n",
      "Epoch 15/100\n",
      "60000/60000 [==============================] - 2s 39us/sample - loss: 0.0119 - val_loss: 0.0115\n",
      "Epoch 16/100\n",
      "60000/60000 [==============================] - 2s 39us/sample - loss: 0.0116 - val_loss: 0.0112\n",
      "Epoch 17/100\n",
      "60000/60000 [==============================] - 2s 37us/sample - loss: 0.0113 - val_loss: 0.0110\n",
      "Epoch 18/100\n",
      "60000/60000 [==============================] - 2s 32us/sample - loss: 0.0110 - val_loss: 0.0107\n",
      "Epoch 19/100\n",
      "60000/60000 [==============================] - 2s 32us/sample - loss: 0.0108 - val_loss: 0.0106\n",
      "Epoch 20/100\n",
      "60000/60000 [==============================] - 2s 32us/sample - loss: 0.0105 - val_loss: 0.0103\n",
      "Epoch 21/100\n",
      "60000/60000 [==============================] - 2s 32us/sample - loss: 0.0103 - val_loss: 0.0099\n",
      "Epoch 22/100\n",
      "60000/60000 [==============================] - 2s 32us/sample - loss: 0.0101 - val_loss: 0.0098\n",
      "Epoch 23/100\n",
      "60000/60000 [==============================] - 2s 32us/sample - loss: 0.0099 - val_loss: 0.0097\n",
      "Epoch 24/100\n",
      "60000/60000 [==============================] - 2s 32us/sample - loss: 0.0098 - val_loss: 0.0095\n",
      "Epoch 25/100\n",
      "60000/60000 [==============================] - 2s 32us/sample - loss: 0.0096 - val_loss: 0.0094\n",
      "Epoch 26/100\n",
      "60000/60000 [==============================] - 2s 32us/sample - loss: 0.0095 - val_loss: 0.0093\n",
      "Epoch 27/100\n",
      "60000/60000 [==============================] - 2s 32us/sample - loss: 0.0094 - val_loss: 0.0091\n",
      "Epoch 28/100\n",
      "60000/60000 [==============================] - 2s 32us/sample - loss: 0.0092 - val_loss: 0.0090\n",
      "Epoch 29/100\n",
      "60000/60000 [==============================] - 2s 32us/sample - loss: 0.0091 - val_loss: 0.0090\n",
      "Epoch 30/100\n",
      "60000/60000 [==============================] - 2s 32us/sample - loss: 0.0090 - val_loss: 0.0089\n",
      "Epoch 31/100\n",
      "60000/60000 [==============================] - 2s 32us/sample - loss: 0.0089 - val_loss: 0.0088\n",
      "Epoch 32/100\n",
      "60000/60000 [==============================] - 2s 32us/sample - loss: 0.0088 - val_loss: 0.0087\n",
      "Epoch 33/100\n",
      "60000/60000 [==============================] - 2s 32us/sample - loss: 0.0087 - val_loss: 0.0086\n",
      "Epoch 34/100\n",
      "60000/60000 [==============================] - 2s 32us/sample - loss: 0.0086 - val_loss: 0.0084\n",
      "Epoch 35/100\n",
      "60000/60000 [==============================] - 2s 32us/sample - loss: 0.0085 - val_loss: 0.0083\n",
      "Epoch 36/100\n",
      "60000/60000 [==============================] - 2s 32us/sample - loss: 0.0085 - val_loss: 0.0084\n",
      "Epoch 37/100\n",
      "60000/60000 [==============================] - 2s 32us/sample - loss: 0.0084 - val_loss: 0.0082\n",
      "Epoch 38/100\n",
      "60000/60000 [==============================] - 2s 32us/sample - loss: 0.0083 - val_loss: 0.0082\n",
      "Epoch 39/100\n",
      "60000/60000 [==============================] - 2s 32us/sample - loss: 0.0082 - val_loss: 0.0082\n",
      "Epoch 40/100\n",
      "60000/60000 [==============================] - 2s 32us/sample - loss: 0.0081 - val_loss: 0.0080\n",
      "Epoch 41/100\n",
      "60000/60000 [==============================] - 2s 32us/sample - loss: 0.0081 - val_loss: 0.0081\n",
      "Epoch 42/100\n",
      "60000/60000 [==============================] - 2s 32us/sample - loss: 0.0080 - val_loss: 0.0079\n",
      "Epoch 43/100\n",
      "60000/60000 [==============================] - 2s 32us/sample - loss: 0.0079 - val_loss: 0.0079\n",
      "Epoch 44/100\n",
      "60000/60000 [==============================] - 2s 32us/sample - loss: 0.0079 - val_loss: 0.0078\n",
      "Epoch 45/100\n",
      "60000/60000 [==============================] - 2s 32us/sample - loss: 0.0078 - val_loss: 0.0077\n",
      "Epoch 46/100\n",
      "60000/60000 [==============================] - 2s 32us/sample - loss: 0.0078 - val_loss: 0.0077\n",
      "Epoch 47/100\n",
      "60000/60000 [==============================] - 2s 32us/sample - loss: 0.0077 - val_loss: 0.0077\n",
      "Epoch 48/100\n",
      "60000/60000 [==============================] - 2s 32us/sample - loss: 0.0077 - val_loss: 0.0076\n",
      "Epoch 49/100\n",
      "60000/60000 [==============================] - 2s 32us/sample - loss: 0.0076 - val_loss: 0.0077\n",
      "Epoch 50/100\n",
      "60000/60000 [==============================] - 2s 32us/sample - loss: 0.0076 - val_loss: 0.0075\n",
      "Epoch 51/100\n",
      "60000/60000 [==============================] - 2s 32us/sample - loss: 0.0075 - val_loss: 0.0075\n",
      "Epoch 52/100\n",
      "60000/60000 [==============================] - 2s 32us/sample - loss: 0.0075 - val_loss: 0.0074\n",
      "Epoch 53/100\n",
      "60000/60000 [==============================] - 2s 32us/sample - loss: 0.0074 - val_loss: 0.0073\n",
      "Epoch 54/100\n",
      "60000/60000 [==============================] - 2s 32us/sample - loss: 0.0074 - val_loss: 0.0073\n",
      "Epoch 55/100\n",
      "60000/60000 [==============================] - 2s 32us/sample - loss: 0.0073 - val_loss: 0.0074\n",
      "Epoch 56/100\n",
      "60000/60000 [==============================] - 2s 32us/sample - loss: 0.0073 - val_loss: 0.0073\n",
      "Epoch 57/100\n",
      "60000/60000 [==============================] - 2s 32us/sample - loss: 0.0073 - val_loss: 0.0073\n",
      "Epoch 58/100\n",
      "60000/60000 [==============================] - 2s 32us/sample - loss: 0.0072 - val_loss: 0.0072\n",
      "Epoch 59/100\n",
      "60000/60000 [==============================] - 2s 32us/sample - loss: 0.0072 - val_loss: 0.0072\n",
      "Epoch 60/100\n",
      "60000/60000 [==============================] - 2s 32us/sample - loss: 0.0071 - val_loss: 0.0071\n",
      "Epoch 61/100\n",
      "60000/60000 [==============================] - 2s 32us/sample - loss: 0.0071 - val_loss: 0.0071\n",
      "Epoch 62/100\n",
      "60000/60000 [==============================] - 2s 32us/sample - loss: 0.0071 - val_loss: 0.0070\n",
      "Epoch 63/100\n",
      "60000/60000 [==============================] - 2s 32us/sample - loss: 0.0070 - val_loss: 0.0070\n",
      "Epoch 64/100\n",
      "60000/60000 [==============================] - 2s 32us/sample - loss: 0.0070 - val_loss: 0.0071\n",
      "Epoch 65/100\n",
      "60000/60000 [==============================] - 2s 32us/sample - loss: 0.0070 - val_loss: 0.0069\n",
      "Epoch 66/100\n",
      "60000/60000 [==============================] - 2s 32us/sample - loss: 0.0070 - val_loss: 0.0069\n",
      "Epoch 67/100\n",
      "60000/60000 [==============================] - 2s 32us/sample - loss: 0.0069 - val_loss: 0.0070\n",
      "Epoch 68/100\n",
      "60000/60000 [==============================] - 2s 32us/sample - loss: 0.0069 - val_loss: 0.0068\n",
      "Epoch 69/100\n",
      "60000/60000 [==============================] - 2s 32us/sample - loss: 0.0069 - val_loss: 0.0069\n",
      "Epoch 70/100\n",
      "60000/60000 [==============================] - 2s 32us/sample - loss: 0.0068 - val_loss: 0.0068\n",
      "Epoch 71/100\n",
      "60000/60000 [==============================] - 2s 32us/sample - loss: 0.0068 - val_loss: 0.0068\n",
      "Epoch 72/100\n",
      "60000/60000 [==============================] - 2s 32us/sample - loss: 0.0067 - val_loss: 0.0067\n",
      "Epoch 73/100\n",
      "60000/60000 [==============================] - 2s 32us/sample - loss: 0.0067 - val_loss: 0.0067\n",
      "Epoch 74/100\n",
      "60000/60000 [==============================] - 2s 32us/sample - loss: 0.0067 - val_loss: 0.0068\n",
      "Epoch 75/100\n",
      "60000/60000 [==============================] - 2s 31us/sample - loss: 0.0066 - val_loss: 0.0066\n",
      "Epoch 76/100\n",
      "60000/60000 [==============================] - 2s 31us/sample - loss: 0.0066 - val_loss: 0.0066\n",
      "Epoch 77/100\n",
      "60000/60000 [==============================] - 2s 31us/sample - loss: 0.0066 - val_loss: 0.0065\n",
      "Epoch 78/100\n",
      "60000/60000 [==============================] - 2s 31us/sample - loss: 0.0066 - val_loss: 0.0066\n",
      "Epoch 79/100\n",
      "60000/60000 [==============================] - 2s 31us/sample - loss: 0.0066 - val_loss: 0.0065\n",
      "Epoch 80/100\n",
      "60000/60000 [==============================] - 2s 31us/sample - loss: 0.0065 - val_loss: 0.0065\n",
      "Epoch 81/100\n",
      "60000/60000 [==============================] - 2s 31us/sample - loss: 0.0065 - val_loss: 0.0065\n",
      "Epoch 82/100\n",
      "60000/60000 [==============================] - 2s 31us/sample - loss: 0.0065 - val_loss: 0.0065\n",
      "Epoch 83/100\n",
      "60000/60000 [==============================] - 2s 31us/sample - loss: 0.0065 - val_loss: 0.0064\n",
      "Epoch 84/100\n",
      "60000/60000 [==============================] - 2s 31us/sample - loss: 0.0065 - val_loss: 0.0064\n",
      "Epoch 85/100\n",
      "60000/60000 [==============================] - 2s 31us/sample - loss: 0.0065 - val_loss: 0.0066\n",
      "Epoch 86/100\n",
      "60000/60000 [==============================] - 2s 31us/sample - loss: 0.0064 - val_loss: 0.0065\n",
      "Epoch 87/100\n",
      "60000/60000 [==============================] - 2s 31us/sample - loss: 0.0064 - val_loss: 0.0065\n",
      "Epoch 88/100\n",
      "60000/60000 [==============================] - 2s 31us/sample - loss: 0.0064 - val_loss: 0.0064\n",
      "Epoch 89/100\n",
      "60000/60000 [==============================] - 2s 31us/sample - loss: 0.0064 - val_loss: 0.0064\n",
      "Epoch 90/100\n",
      "60000/60000 [==============================] - 2s 31us/sample - loss: 0.0064 - val_loss: 0.0063\n",
      "Epoch 91/100\n",
      "60000/60000 [==============================] - 2s 31us/sample - loss: 0.0064 - val_loss: 0.0063\n",
      "Epoch 92/100\n",
      "60000/60000 [==============================] - 2s 31us/sample - loss: 0.0063 - val_loss: 0.0064\n",
      "Epoch 93/100\n",
      "60000/60000 [==============================] - 2s 31us/sample - loss: 0.0063 - val_loss: 0.0064\n",
      "Epoch 94/100\n",
      "60000/60000 [==============================] - 2s 31us/sample - loss: 0.0063 - val_loss: 0.0064\n",
      "Epoch 95/100\n",
      "60000/60000 [==============================] - 2s 31us/sample - loss: 0.0063 - val_loss: 0.0064\n",
      "Epoch 96/100\n",
      "60000/60000 [==============================] - 2s 31us/sample - loss: 0.0063 - val_loss: 0.0063\n",
      "Epoch 97/100\n",
      "60000/60000 [==============================] - 2s 31us/sample - loss: 0.0063 - val_loss: 0.0064\n",
      "Epoch 98/100\n",
      "60000/60000 [==============================] - 2s 31us/sample - loss: 0.0063 - val_loss: 0.0064\n",
      "Epoch 99/100\n",
      "60000/60000 [==============================] - 2s 31us/sample - loss: 0.0063 - val_loss: 0.0063\n",
      "Epoch 100/100\n",
      "60000/60000 [==============================] - 2s 31us/sample - loss: 0.0063 - val_loss: 0.0063\n"
     ]
    },
    {
     "data": {
      "text/plain": [
       "<tensorflow.python.keras.callbacks.History at 0x7fc0cb916da0>"
      ]
     },
     "execution_count": 24,
     "metadata": {},
     "output_type": "execute_result"
    }
   ],
   "source": [
    "## trainig n compiling\n",
    "\n",
    "autoencoder = Model(input_img, decoded)\n",
    "autoencoder.compile(optimizer='adam', loss='mse')\n",
    "\n",
    "autoencoder.fit(x_train, x_train,\n",
    "                epochs=100,\n",
    "                batch_size=256,\n",
    "                shuffle=True,\n",
    "                validation_data=(x_test, x_test))"
   ]
  },
  {
   "cell_type": "code",
   "execution_count": 28,
   "metadata": {},
   "outputs": [
    {
     "data": {
      "image/png": "[encoded data removed]",
      "text/plain": [
       "<Figure size 1440x288 with 20 Axes>"
      ]
     },
     "metadata": {
      "needs_background": "light"
     },
     "output_type": "display_data"
    }
   ],
   "source": [
    "decoded_imgs = autoencoder.predict(x_test)\n",
    "\n",
    "plot_imgs(decoded_imgs)"
   ]
  },
  {
   "cell_type": "markdown",
   "metadata": {},
   "source": [
    "### Convolutional autoencoder"
   ]
  },
  {
   "cell_type": "code",
   "execution_count": 26,
   "metadata": {},
   "outputs": [],
   "source": [
    "## Since our inputs are images, it makes sense to use convolutional neural networks (convnets) as encoders \n",
    "## and decoders. In practical settings, autoencoders applied to images are always convolutional autoencoders \n",
    "## --they simply perform much better."
   ]
  },
  {
   "cell_type": "code",
   "execution_count": 15,
   "metadata": {},
   "outputs": [
    {
     "name": "stdout",
     "output_type": "stream",
     "text": [
      "Model: \"model_5\"\n",
      "_________________________________________________________________\n",
      "Layer (type)                 Output Shape              Param #   \n",
      "=================================================================\n",
      "input_6 (InputLayer)         [(None, 28, 28, 1)]       0         \n",
      "_________________________________________________________________\n",
      "conv2d_14 (Conv2D)           (None, 28, 28, 16)        160       \n",
      "_________________________________________________________________\n",
      "max_pooling2d_6 (MaxPooling2 (None, 14, 14, 16)        0         \n",
      "_________________________________________________________________\n",
      "conv2d_15 (Conv2D)           (None, 14, 14, 8)         1160      \n",
      "_________________________________________________________________\n",
      "max_pooling2d_7 (MaxPooling2 (None, 7, 7, 8)           0         \n",
      "_________________________________________________________________\n",
      "conv2d_16 (Conv2D)           (None, 7, 7, 8)           584       \n",
      "_________________________________________________________________\n",
      "max_pooling2d_8 (MaxPooling2 (None, 4, 4, 8)           0         \n",
      "_________________________________________________________________\n",
      "conv2d_17 (Conv2D)           (None, 4, 4, 8)           584       \n",
      "_________________________________________________________________\n",
      "up_sampling2d_6 (UpSampling2 (None, 8, 8, 8)           0         \n",
      "_________________________________________________________________\n",
      "conv2d_18 (Conv2D)           (None, 8, 8, 8)           584       \n",
      "_________________________________________________________________\n",
      "up_sampling2d_7 (UpSampling2 (None, 16, 16, 8)         0         \n",
      "_________________________________________________________________\n",
      "conv2d_19 (Conv2D)           (None, 14, 14, 16)        1168      \n",
      "_________________________________________________________________\n",
      "up_sampling2d_8 (UpSampling2 (None, 28, 28, 16)        0         \n",
      "_________________________________________________________________\n",
      "conv2d_20 (Conv2D)           (None, 28, 28, 1)         145       \n",
      "=================================================================\n",
      "Total params: 4,385\n",
      "Trainable params: 4,385\n",
      "Non-trainable params: 0\n",
      "_________________________________________________________________\n"
     ]
    }
   ],
   "source": [
    "from tensorflow.keras.layers import Conv2D, MaxPooling2D, Input, Dense, UpSampling2D\n",
    "from tensorflow.keras import Model\n",
    "from tensorflow.keras import backend as K\n",
    "\n",
    "x = Input(shape=(28, 28,1)) \n",
    "\n",
    "# Encoder\n",
    "conv1_1 = Conv2D(16, (3, 3), activation='relu', padding='same')(x)\n",
    "pool1 = MaxPooling2D((2, 2), padding='same')(conv1_1)\n",
    "conv1_2 = Conv2D(8, (3, 3), activation='relu', padding='same')(pool1)\n",
    "pool2 = MaxPooling2D((2, 2), padding='same')(conv1_2)\n",
    "conv1_3 = Conv2D(8, (3, 3), activation='relu', padding='same')(pool2)\n",
    "h = MaxPooling2D((2, 2), padding='same')(conv1_3)\n",
    "\n",
    "\n",
    "# Decoder\n",
    "conv2_1 = Conv2D(8, (3, 3), activation='relu', padding='same')(h)\n",
    "up1 = UpSampling2D((2, 2))(conv2_1)\n",
    "conv2_2 = Conv2D(8, (3, 3), activation='relu', padding='same')(up1)\n",
    "up2 = UpSampling2D((2, 2))(conv2_2)\n",
    "conv2_3 = Conv2D(16, (3, 3), activation='relu')(up2)\n",
    "up3 = UpSampling2D((2, 2))(conv2_3)\n",
    "r = Conv2D(1, (3, 3), activation='sigmoid', padding='same')(up3)\n",
    "\n",
    "autoencoder = Model(inputs=x, outputs=r)\n",
    "autoencoder.compile(optimizer='adam', loss='binary_crossentropy')\n",
    "autoencoder.summary()"
   ]
  },
  {
   "cell_type": "code",
   "execution_count": 16,
   "metadata": {},
   "outputs": [
    {
     "name": "stdout",
     "output_type": "stream",
     "text": [
      "X_train shape: (60000, 28, 28, 1)\n",
      "60000 train samples\n",
      "10000 test samples\n"
     ]
    }
   ],
   "source": [
    "from keras.datasets import mnist\n",
    "from keras.utils import np_utils\n",
    "import numpy as np\n",
    "\n",
    "nb_classes = 10\n",
    "\n",
    "(X_train, y_train), (X_test, y_test) = mnist.load_data()\n",
    "\n",
    "X_train = X_train.reshape(X_train.shape[0], 28, 28, 1)\n",
    "X_test = X_test.reshape(X_test.shape[0], 28, 28, 1)\n",
    "X_train = X_train.astype(\"float32\")/255.\n",
    "X_test = X_test.astype(\"float32\")/255.\n",
    "print('X_train shape:', X_train.shape)\n",
    "print(X_train.shape[0], 'train samples')\n",
    "print(X_test.shape[0], 'test samples')\n",
    "\n",
    "y_train = np_utils.to_categorical(y_train, nb_classes)\n",
    "y_test = np_utils.to_categorical(y_test, nb_classes)"
   ]
  },
  {
   "cell_type": "code",
   "execution_count": 17,
   "metadata": {
    "scrolled": true
   },
   "outputs": [
    {
     "name": "stdout",
     "output_type": "stream",
     "text": [
      "Train on 60000 samples, validate on 10000 samples\n",
      "Epoch 1/10\n",
      "60000/60000 [==============================] - 41s 680us/sample - loss: 0.2393 - val_loss: 0.1482\n",
      "Epoch 2/10\n",
      "60000/60000 [==============================] - 40s 669us/sample - loss: 0.1375 - val_loss: 0.1282\n",
      "Epoch 3/10\n",
      "60000/60000 [==============================] - 41s 684us/sample - loss: 0.1249 - val_loss: 0.1202\n",
      "Epoch 4/10\n",
      "60000/60000 [==============================] - 42s 698us/sample - loss: 0.1187 - val_loss: 0.1153\n",
      "Epoch 5/10\n",
      "60000/60000 [==============================] - 41s 678us/sample - loss: 0.1147 - val_loss: 0.1120\n",
      "Epoch 6/10\n",
      "60000/60000 [==============================] - 39s 656us/sample - loss: 0.1118 - val_loss: 0.1092\n",
      "Epoch 7/10\n",
      "60000/60000 [==============================] - 40s 675us/sample - loss: 0.1096 - val_loss: 0.1076\n",
      "Epoch 8/10\n",
      "60000/60000 [==============================] - 44s 730us/sample - loss: 0.1080 - val_loss: 0.1060\n",
      "Epoch 9/10\n",
      "60000/60000 [==============================] - 43s 717us/sample - loss: 0.1067 - val_loss: 0.1051\n",
      "Epoch 10/10\n",
      "60000/60000 [==============================] - 40s 659us/sample - loss: 0.1055 - val_loss: 0.1038\n"
     ]
    },
    {
     "data": {
      "text/plain": [
       "<tensorflow.python.keras.callbacks.History at 0x7f4ac8bd5358>"
      ]
     },
     "execution_count": 17,
     "metadata": {},
     "output_type": "execute_result"
    }
   ],
   "source": [
    "from tensorflow.keras.callbacks import TensorBoard\n",
    "\n",
    "autoencoder.fit(X_train, X_train,\n",
    "                epochs=10,\n",
    "                batch_size=128,\n",
    "                shuffle=True,\n",
    "                validation_data=(X_test, X_test),\n",
    "                callbacks=[TensorBoard(log_dir='/tmp/autoencoder')])"
   ]
  },
  {
   "cell_type": "code",
   "execution_count": 18,
   "metadata": {
    "scrolled": true
   },
   "outputs": [
    {
     "data": {
      "image/png": "[encoded data removed]",
      "text/plain": [
       "<Figure size 1440x432 with 20 Axes>"
      ]
     },
     "metadata": {
      "needs_background": "light"
     },
     "output_type": "display_data"
    }
   ],
   "source": [
    "## Predicting the results\n",
    "\n",
    "decoded_imgs = autoencoder.predict(X_test)\n",
    "\n",
    "n = 10\n",
    "plt.figure(figsize=(20, 6))\n",
    "for i in range(n):\n",
    "    # display original\n",
    "    ax = plt.subplot(3, n, i+1)\n",
    "    plt.imshow(X_test[i].reshape(28, 28))\n",
    "    plt.gray()\n",
    "    ax.get_xaxis().set_visible(False)\n",
    "    ax.get_yaxis().set_visible(False)\n",
    "\n",
    "    \n",
    "    # display reconstruction\n",
    "    ax = plt.subplot(3, n, i+n+1)\n",
    "    plt.imshow(decoded_imgs[i].reshape(28, 28))\n",
    "    plt.gray()\n",
    "    ax.get_xaxis().set_visible(False)\n",
    "    ax.get_yaxis().set_visible(False)\n",
    "    \n",
    "plt.show()"
   ]
  },
  {
   "cell_type": "markdown",
   "metadata": {},
   "source": [
    "### Image Denoising"
   ]
  },
  {
   "cell_type": "code",
   "execution_count": 19,
   "metadata": {},
   "outputs": [],
   "source": [
    "from keras.datasets import mnist\n",
    "import numpy as np\n",
    "\n",
    "(x_train, _), (x_test, _) = mnist.load_data()\n",
    "\n",
    "x_train = x_train.astype('float32') / 255.\n",
    "x_test = x_test.astype('float32') / 255.\n",
    "x_train = np.reshape(x_train, (len(x_train), 28, 28, 1))  # adapt this if using `channels_first` image data format\n",
    "x_test = np.reshape(x_test, (len(x_test), 28, 28, 1))  # adapt this if using `channels_first` image data format\n",
    "\n",
    "## adding noise\n",
    "noise_factor = 0.5\n",
    "x_train_noisy = x_train + noise_factor * np.random.normal(loc=0.0, scale=1.0, size=x_train.shape) \n",
    "x_test_noisy = x_test + noise_factor * np.random.normal(loc=0.0, scale=1.0, size=x_test.shape) \n",
    "\n",
    "x_train_noisy = np.clip(x_train_noisy, 0., 1.)\n",
    "x_test_noisy = np.clip(x_test_noisy, 0., 1.)"
   ]
  },
  {
   "cell_type": "code",
   "execution_count": 20,
   "metadata": {},
   "outputs": [
    {
     "data": {
      "image/png": "[encoded data removed]",
      "text/plain": [
       "<Figure size 1440x144 with 10 Axes>"
      ]
     },
     "metadata": {
      "needs_background": "light"
     },
     "output_type": "display_data"
    }
   ],
   "source": [
    "## the noisy images look like:\n",
    "\n",
    "n = 10\n",
    "plt.figure(figsize=(20, 2))\n",
    "for i in range(n):\n",
    "    ax = plt.subplot(1, n, i+1)\n",
    "    plt.imshow(x_test_noisy[i].reshape(28, 28))\n",
    "    plt.gray()\n",
    "    ax.get_xaxis().set_visible(False)\n",
    "    ax.get_yaxis().set_visible(False)\n",
    "plt.show()"
   ]
  },
  {
   "cell_type": "code",
   "execution_count": 21,
   "metadata": {},
   "outputs": [],
   "source": [
    "input_img = Input(shape=(28, 28, 1))  # adapt this if using `channels_first` image data format\n",
    "\n",
    "x = Conv2D(32, (3, 3), activation='relu', padding='same')(input_img)\n",
    "x = MaxPooling2D((2, 2), padding='same')(x)\n",
    "x = Conv2D(32, (3, 3), activation='relu', padding='same')(x)\n",
    "encoded = MaxPooling2D((2, 2), padding='same')(x)\n",
    "\n",
    "# at this point the representation is (7, 7, 32)\n",
    "\n",
    "x = Conv2D(32, (3, 3), activation='relu', padding='same')(encoded)\n",
    "x = UpSampling2D((2, 2))(x)\n",
    "x = Conv2D(32, (3, 3), activation='relu', padding='same')(x)\n",
    "x = UpSampling2D((2, 2))(x)\n",
    "decoded = Conv2D(1, (3, 3), activation='sigmoid', padding='same')(x)\n",
    "\n",
    "autoencoder = Model(input_img, decoded)\n",
    "autoencoder.compile(optimizer='adam', loss='binary_crossentropy')"
   ]
  },
  {
   "cell_type": "code",
   "execution_count": 22,
   "metadata": {
    "scrolled": true
   },
   "outputs": [
    {
     "name": "stdout",
     "output_type": "stream",
     "text": [
      "Train on 60000 samples, validate on 10000 samples\n",
      "Epoch 1/10\n",
      "60000/60000 [==============================] - 83s 1ms/sample - loss: 0.1666 - val_loss: 0.1161\n",
      "Epoch 2/10\n",
      "60000/60000 [==============================] - 80s 1ms/sample - loss: 0.1131 - val_loss: 0.1087\n",
      "Epoch 3/10\n",
      "60000/60000 [==============================] - 84s 1ms/sample - loss: 0.1079 - val_loss: 0.1050\n",
      "Epoch 4/10\n",
      "60000/60000 [==============================] - 88s 1ms/sample - loss: 0.1047 - val_loss: 0.1025\n",
      "Epoch 5/10\n",
      "60000/60000 [==============================] - 82s 1ms/sample - loss: 0.1025 - val_loss: 0.1008\n",
      "Epoch 6/10\n",
      "60000/60000 [==============================] - 88s 1ms/sample - loss: 0.1011 - val_loss: 0.0997\n",
      "Epoch 7/10\n",
      "60000/60000 [==============================] - 84s 1ms/sample - loss: 0.1000 - val_loss: 0.0992\n",
      "Epoch 8/10\n",
      "60000/60000 [==============================] - 85s 1ms/sample - loss: 0.0993 - val_loss: 0.0985\n",
      "Epoch 9/10\n",
      "60000/60000 [==============================] - 84s 1ms/sample - loss: 0.0987 - val_loss: 0.0977\n",
      "Epoch 10/10\n",
      "60000/60000 [==============================] - 83s 1ms/sample - loss: 0.0982 - val_loss: 0.0976\n"
     ]
    },
    {
     "data": {
      "text/plain": [
       "<tensorflow.python.keras.callbacks.History at 0x7f4ac8615080>"
      ]
     },
     "execution_count": 22,
     "metadata": {},
     "output_type": "execute_result"
    }
   ],
   "source": [
    "autoencoder.fit(x_train_noisy, x_train,\n",
    "                epochs=10,\n",
    "                batch_size=128,\n",
    "                shuffle=True,\n",
    "                validation_data=(x_test_noisy, x_test),\n",
    "                callbacks=[TensorBoard(log_dir='/tmp/tb', histogram_freq=0, write_graph=False)])"
   ]
  },
  {
   "cell_type": "code",
   "execution_count": 26,
   "metadata": {},
   "outputs": [
    {
     "data": {
      "image/png": "[encoded data removed]",
      "text/plain": [
       "<Figure size 1440x432 with 20 Axes>"
      ]
     },
     "metadata": {
      "needs_background": "light"
     },
     "output_type": "display_data"
    }
   ],
   "source": [
    "## Predicting the results\n",
    "\n",
    "decoded_imgs = autoencoder.predict(x_test_noisy)\n",
    "\n",
    "n = 10\n",
    "plt.figure(figsize=(20, 6))\n",
    "for i in range(n):\n",
    "    # display original\n",
    "    ax = plt.subplot(3, n, i+1)\n",
    "    plt.imshow(x_test_noisy[i].reshape(28, 28))\n",
    "    plt.gray()\n",
    "    ax.get_xaxis().set_visible(False)\n",
    "    ax.get_yaxis().set_visible(False)\n",
    "\n",
    "    \n",
    "    # display reconstruction\n",
    "    ax = plt.subplot(3, n, i+n+1)\n",
    "    plt.imshow(decoded_imgs[i].reshape(28, 28))\n",
    "    plt.gray()\n",
    "    ax.get_xaxis().set_visible(False)\n",
    "    ax.get_yaxis().set_visible(False)\n",
    "    \n",
    "plt.show()"
   ]
  },
  {
   "cell_type": "markdown",
   "metadata": {},
   "source": [
    "### Variational autoencoder (VAE)"
   ]
  },
  {
   "cell_type": "markdown",
   "metadata": {},
   "source": [
    "What is a variational autoencoder, you ask? It's a type of autoencoder with added constraints on the encoded representations being learned. More precisely, it is an autoencoder that learns a latent variable model for its input data. So instead of letting your neural network learn an arbitrary function, you are learning the parameters of a probability distribution modeling your data. If you sample points from this distribution, you can generate new input data samples: a VAE is a \"generative model\".\n",
    "\n",
    "How does a variational autoencoder work?\n",
    "\n",
    "First, an encoder network turns the input samples x into two parameters in a latent space, which we will note z_mean and z_log_sigma. Then, we randomly sample similar points z from the latent normal distribution that is assumed to generate the data, via z = z_mean + exp(z_log_sigma) * epsilon, where epsilon is a random normal tensor. Finally, a decoder network maps these latent space points back to the original input data.\n",
    "\n",
    "The parameters of the model are trained via two loss functions: a reconstruction loss forcing the decoded samples to match the initial inputs (just like in our previous autoencoders), and the KL divergence between the learned latent distribution and the prior distribution, acting as a regularization term. You could actually get rid of this latter term entirely, although it does help in learning well-formed latent spaces and reducing overfitting to the training data."
   ]
  },
  {
   "cell_type": "code",
   "execution_count": 35,
   "metadata": {},
   "outputs": [],
   "source": [
    "## encoder model\n",
    "\n",
    "intermediate_dim = 512\n",
    "batch_size = 128\n",
    "latent_dim = 2\n",
    "\n",
    "x = Input(batch_shape=(batch_size, original_dim))\n",
    "h = Dense(intermediate_dim, activation='relu')(x)\n",
    "z_mean = Dense(latent_dim)(h)\n",
    "z_log_sigma = Dense(latent_dim)(h)"
   ]
  },
  {
   "cell_type": "code",
   "execution_count": 36,
   "metadata": {},
   "outputs": [],
   "source": [
    "from tensorflow.keras.layers import Lambda\n",
    "\n",
    "def sampling(args):\n",
    "    \"\"\"Reparameterization trick by sampling from an isotropic unit Gaussian.\n",
    "    # Arguments\n",
    "        args (tensor): mean and log of variance of Q(z|X)\n",
    "    # Returns\n",
    "        z (tensor): sampled latent vector\n",
    "    \"\"\"\n",
    "\n",
    "    z_mean, z_log_var = args\n",
    "    batch = K.shape(z_mean)[0]\n",
    "    dim = K.int_shape(z_mean)[1]\n",
    "    # by default, random_normal has mean = 0 and std = 1.0\n",
    "    epsilon = K.random_normal(shape=(batch, dim))\n",
    "    return z_mean + K.exp(0.5 * z_log_var) * epsilon\n",
    "\n",
    "# note that \"output_shape\" isn't necessary with the TensorFlow backend\n",
    "# so you could write `Lambda(sampling)([z_mean, z_log_sigma])`\n",
    "z = Lambda(sampling, output_shape=(latent_dim,))([z_mean, z_log_sigma])"
   ]
  },
  {
   "cell_type": "code",
   "execution_count": 37,
   "metadata": {},
   "outputs": [],
   "source": [
    "## mapping the sample latent points\n",
    "\n",
    "decoder_h = Dense(intermediate_dim, activation='relu')\n",
    "decoder_mean = Dense(original_dim, activation='sigmoid')\n",
    "h_decoded = decoder_h(z)\n",
    "x_decoded_mean = decoder_mean(h_decoded)"
   ]
  },
  {
   "cell_type": "code",
   "execution_count": 38,
   "metadata": {},
   "outputs": [],
   "source": [
    "## so far we have these 3 models\n",
    "\n",
    "# end-to-end autoencoder\n",
    "vae = Model(x, x_decoded_mean)\n",
    "\n",
    "# encoder, from inputs to latent space\n",
    "encoder = Model(x, z_mean)\n",
    "\n",
    "# generator, from latent space to reconstructed inputs\n",
    "decoder_input = Input(shape=(latent_dim,))\n",
    "_h_decoded = decoder_h(decoder_input)\n",
    "_x_decoded_mean = decoder_mean(_h_decoded)\n",
    "generator = Model(decoder_input, _x_decoded_mean)"
   ]
  },
  {
   "cell_type": "code",
   "execution_count": 39,
   "metadata": {},
   "outputs": [
    {
     "ename": "NameError",
     "evalue": "name 'objectives' is not defined",
     "output_type": "error",
     "traceback": [
      "\u001b[0;31m---------------------------------------------------------------------------\u001b[0m",
      "\u001b[0;31mNameError\u001b[0m                                 Traceback (most recent call last)",
      "\u001b[0;32m<ipython-input-39-99a91462a9fa>\u001b[0m in \u001b[0;36m<module>\u001b[0;34m\u001b[0m\n\u001b[1;32m      7\u001b[0m     \u001b[0;32mreturn\u001b[0m \u001b[0mxent_loss\u001b[0m \u001b[0;34m+\u001b[0m \u001b[0mkl_loss\u001b[0m\u001b[0;34m\u001b[0m\u001b[0m\n\u001b[1;32m      8\u001b[0m \u001b[0;34m\u001b[0m\u001b[0m\n\u001b[0;32m----> 9\u001b[0;31m \u001b[0mvae\u001b[0m\u001b[0;34m.\u001b[0m\u001b[0mcompile\u001b[0m\u001b[0;34m(\u001b[0m\u001b[0moptimizer\u001b[0m\u001b[0;34m=\u001b[0m\u001b[0;34m'rmsprop'\u001b[0m\u001b[0;34m,\u001b[0m \u001b[0mloss\u001b[0m\u001b[0;34m=\u001b[0m\u001b[0mvae_loss\u001b[0m\u001b[0;34m)\u001b[0m\u001b[0;34m\u001b[0m\u001b[0m\n\u001b[0m",
      "\u001b[0;32m~/.local/lib/python3.5/site-packages/tensorflow_core/python/training/tracking/base.py\u001b[0m in \u001b[0;36m_method_wrapper\u001b[0;34m(self, *args, **kwargs)\u001b[0m\n\u001b[1;32m    455\u001b[0m     \u001b[0mself\u001b[0m\u001b[0;34m.\u001b[0m\u001b[0m_self_setattr_tracking\u001b[0m \u001b[0;34m=\u001b[0m \u001b[0;32mFalse\u001b[0m  \u001b[0;31m# pylint: disable=protected-access\u001b[0m\u001b[0;34m\u001b[0m\u001b[0m\n\u001b[1;32m    456\u001b[0m     \u001b[0;32mtry\u001b[0m\u001b[0;34m:\u001b[0m\u001b[0;34m\u001b[0m\u001b[0m\n\u001b[0;32m--> 457\u001b[0;31m       \u001b[0mresult\u001b[0m \u001b[0;34m=\u001b[0m \u001b[0mmethod\u001b[0m\u001b[0;34m(\u001b[0m\u001b[0mself\u001b[0m\u001b[0;34m,\u001b[0m \u001b[0;34m*\u001b[0m\u001b[0margs\u001b[0m\u001b[0;34m,\u001b[0m \u001b[0;34m**\u001b[0m\u001b[0mkwargs\u001b[0m\u001b[0;34m)\u001b[0m\u001b[0;34m\u001b[0m\u001b[0m\n\u001b[0m\u001b[1;32m    458\u001b[0m     \u001b[0;32mfinally\u001b[0m\u001b[0;34m:\u001b[0m\u001b[0;34m\u001b[0m\u001b[0m\n\u001b[1;32m    459\u001b[0m       \u001b[0mself\u001b[0m\u001b[0;34m.\u001b[0m\u001b[0m_self_setattr_tracking\u001b[0m \u001b[0;34m=\u001b[0m \u001b[0mprevious_value\u001b[0m  \u001b[0;31m# pylint: disable=protected-access\u001b[0m\u001b[0;34m\u001b[0m\u001b[0m\n",
      "\u001b[0;32m~/.local/lib/python3.5/site-packages/tensorflow_core/python/keras/engine/training.py\u001b[0m in \u001b[0;36mcompile\u001b[0;34m(self, optimizer, loss, metrics, loss_weights, sample_weight_mode, weighted_metrics, target_tensors, distribute, **kwargs)\u001b[0m\n\u001b[1;32m    444\u001b[0m \u001b[0;34m\u001b[0m\u001b[0m\n\u001b[1;32m    445\u001b[0m       \u001b[0;31m# Creates the model loss and weighted metrics sub-graphs.\u001b[0m\u001b[0;34m\u001b[0m\u001b[0;34m\u001b[0m\u001b[0m\n\u001b[0;32m--> 446\u001b[0;31m       \u001b[0mself\u001b[0m\u001b[0;34m.\u001b[0m\u001b[0m_compile_weights_loss_and_weighted_metrics\u001b[0m\u001b[0;34m(\u001b[0m\u001b[0;34m)\u001b[0m\u001b[0;34m\u001b[0m\u001b[0m\n\u001b[0m\u001b[1;32m    447\u001b[0m \u001b[0;34m\u001b[0m\u001b[0m\n\u001b[1;32m    448\u001b[0m       \u001b[0;31m# Functions for train, test and predict will\u001b[0m\u001b[0;34m\u001b[0m\u001b[0;34m\u001b[0m\u001b[0m\n",
      "\u001b[0;32m~/.local/lib/python3.5/site-packages/tensorflow_core/python/training/tracking/base.py\u001b[0m in \u001b[0;36m_method_wrapper\u001b[0;34m(self, *args, **kwargs)\u001b[0m\n\u001b[1;32m    455\u001b[0m     \u001b[0mself\u001b[0m\u001b[0;34m.\u001b[0m\u001b[0m_self_setattr_tracking\u001b[0m \u001b[0;34m=\u001b[0m \u001b[0;32mFalse\u001b[0m  \u001b[0;31m# pylint: disable=protected-access\u001b[0m\u001b[0;34m\u001b[0m\u001b[0m\n\u001b[1;32m    456\u001b[0m     \u001b[0;32mtry\u001b[0m\u001b[0;34m:\u001b[0m\u001b[0;34m\u001b[0m\u001b[0m\n\u001b[0;32m--> 457\u001b[0;31m       \u001b[0mresult\u001b[0m \u001b[0;34m=\u001b[0m \u001b[0mmethod\u001b[0m\u001b[0;34m(\u001b[0m\u001b[0mself\u001b[0m\u001b[0;34m,\u001b[0m \u001b[0;34m*\u001b[0m\u001b[0margs\u001b[0m\u001b[0;34m,\u001b[0m \u001b[0;34m**\u001b[0m\u001b[0mkwargs\u001b[0m\u001b[0;34m)\u001b[0m\u001b[0;34m\u001b[0m\u001b[0m\n\u001b[0m\u001b[1;32m    458\u001b[0m     \u001b[0;32mfinally\u001b[0m\u001b[0;34m:\u001b[0m\u001b[0;34m\u001b[0m\u001b[0m\n\u001b[1;32m    459\u001b[0m       \u001b[0mself\u001b[0m\u001b[0;34m.\u001b[0m\u001b[0m_self_setattr_tracking\u001b[0m \u001b[0;34m=\u001b[0m \u001b[0mprevious_value\u001b[0m  \u001b[0;31m# pylint: disable=protected-access\u001b[0m\u001b[0;34m\u001b[0m\u001b[0m\n",
      "\u001b[0;32m~/.local/lib/python3.5/site-packages/tensorflow_core/python/keras/engine/training.py\u001b[0m in \u001b[0;36m_compile_weights_loss_and_weighted_metrics\u001b[0;34m(self, sample_weights)\u001b[0m\n\u001b[1;32m   1590\u001b[0m       \u001b[0;31m#                   loss_weight_2 * output_2_loss_fn(...) +\u001b[0m\u001b[0;34m\u001b[0m\u001b[0;34m\u001b[0m\u001b[0m\n\u001b[1;32m   1591\u001b[0m       \u001b[0;31m#                   layer losses.\u001b[0m\u001b[0;34m\u001b[0m\u001b[0;34m\u001b[0m\u001b[0m\n\u001b[0;32m-> 1592\u001b[0;31m       \u001b[0mself\u001b[0m\u001b[0;34m.\u001b[0m\u001b[0mtotal_loss\u001b[0m \u001b[0;34m=\u001b[0m \u001b[0mself\u001b[0m\u001b[0;34m.\u001b[0m\u001b[0m_prepare_total_loss\u001b[0m\u001b[0;34m(\u001b[0m\u001b[0mmasks\u001b[0m\u001b[0;34m)\u001b[0m\u001b[0;34m\u001b[0m\u001b[0m\n\u001b[0m\u001b[1;32m   1593\u001b[0m \u001b[0;34m\u001b[0m\u001b[0m\n\u001b[1;32m   1594\u001b[0m   \u001b[0;32mdef\u001b[0m \u001b[0m_prepare_skip_target_masks\u001b[0m\u001b[0;34m(\u001b[0m\u001b[0mself\u001b[0m\u001b[0;34m)\u001b[0m\u001b[0;34m:\u001b[0m\u001b[0;34m\u001b[0m\u001b[0m\n",
      "\u001b[0;32m~/.local/lib/python3.5/site-packages/tensorflow_core/python/keras/engine/training.py\u001b[0m in \u001b[0;36m_prepare_total_loss\u001b[0;34m(self, masks)\u001b[0m\n\u001b[1;32m   1650\u001b[0m \u001b[0;34m\u001b[0m\u001b[0m\n\u001b[1;32m   1651\u001b[0m           \u001b[0;32mif\u001b[0m \u001b[0mhasattr\u001b[0m\u001b[0;34m(\u001b[0m\u001b[0mloss_fn\u001b[0m\u001b[0;34m,\u001b[0m \u001b[0;34m'reduction'\u001b[0m\u001b[0;34m)\u001b[0m\u001b[0;34m:\u001b[0m\u001b[0;34m\u001b[0m\u001b[0m\n\u001b[0;32m-> 1652\u001b[0;31m             \u001b[0mper_sample_losses\u001b[0m \u001b[0;34m=\u001b[0m \u001b[0mloss_fn\u001b[0m\u001b[0;34m.\u001b[0m\u001b[0mcall\u001b[0m\u001b[0;34m(\u001b[0m\u001b[0my_true\u001b[0m\u001b[0;34m,\u001b[0m \u001b[0my_pred\u001b[0m\u001b[0;34m)\u001b[0m\u001b[0;34m\u001b[0m\u001b[0m\n\u001b[0m\u001b[1;32m   1653\u001b[0m             weighted_losses = losses_utils.compute_weighted_loss(\n\u001b[1;32m   1654\u001b[0m                 \u001b[0mper_sample_losses\u001b[0m\u001b[0;34m,\u001b[0m\u001b[0;34m\u001b[0m\u001b[0m\n",
      "\u001b[0;32m~/.local/lib/python3.5/site-packages/tensorflow_core/python/keras/losses.py\u001b[0m in \u001b[0;36mcall\u001b[0;34m(self, y_true, y_pred)\u001b[0m\n\u001b[1;32m    219\u001b[0m       y_pred, y_true = tf_losses_util.squeeze_or_expand_dimensions(\n\u001b[1;32m    220\u001b[0m           y_pred, y_true)\n\u001b[0;32m--> 221\u001b[0;31m     \u001b[0;32mreturn\u001b[0m \u001b[0mself\u001b[0m\u001b[0;34m.\u001b[0m\u001b[0mfn\u001b[0m\u001b[0;34m(\u001b[0m\u001b[0my_true\u001b[0m\u001b[0;34m,\u001b[0m \u001b[0my_pred\u001b[0m\u001b[0;34m,\u001b[0m \u001b[0;34m**\u001b[0m\u001b[0mself\u001b[0m\u001b[0;34m.\u001b[0m\u001b[0m_fn_kwargs\u001b[0m\u001b[0;34m)\u001b[0m\u001b[0;34m\u001b[0m\u001b[0m\n\u001b[0m\u001b[1;32m    222\u001b[0m \u001b[0;34m\u001b[0m\u001b[0m\n\u001b[1;32m    223\u001b[0m   \u001b[0;32mdef\u001b[0m \u001b[0mget_config\u001b[0m\u001b[0;34m(\u001b[0m\u001b[0mself\u001b[0m\u001b[0;34m)\u001b[0m\u001b[0;34m:\u001b[0m\u001b[0;34m\u001b[0m\u001b[0m\n",
      "\u001b[0;32m<ipython-input-39-99a91462a9fa>\u001b[0m in \u001b[0;36mvae_loss\u001b[0;34m(x, x_decoded_mean)\u001b[0m\n\u001b[1;32m      3\u001b[0m \u001b[0;34m\u001b[0m\u001b[0m\n\u001b[1;32m      4\u001b[0m \u001b[0;32mdef\u001b[0m \u001b[0mvae_loss\u001b[0m\u001b[0;34m(\u001b[0m\u001b[0mx\u001b[0m\u001b[0;34m,\u001b[0m \u001b[0mx_decoded_mean\u001b[0m\u001b[0;34m)\u001b[0m\u001b[0;34m:\u001b[0m\u001b[0;34m\u001b[0m\u001b[0m\n\u001b[0;32m----> 5\u001b[0;31m     \u001b[0mxent_loss\u001b[0m \u001b[0;34m=\u001b[0m \u001b[0mobjectives\u001b[0m\u001b[0;34m.\u001b[0m\u001b[0mbinary_crossentropy\u001b[0m\u001b[0;34m(\u001b[0m\u001b[0mx\u001b[0m\u001b[0;34m,\u001b[0m \u001b[0mx_decoded_mean\u001b[0m\u001b[0;34m)\u001b[0m\u001b[0;34m\u001b[0m\u001b[0m\n\u001b[0m\u001b[1;32m      6\u001b[0m     \u001b[0mkl_loss\u001b[0m \u001b[0;34m=\u001b[0m \u001b[0;34m-\u001b[0m \u001b[0;36m0.5\u001b[0m \u001b[0;34m*\u001b[0m \u001b[0mK\u001b[0m\u001b[0;34m.\u001b[0m\u001b[0mmean\u001b[0m\u001b[0;34m(\u001b[0m\u001b[0;36m1\u001b[0m \u001b[0;34m+\u001b[0m \u001b[0mz_log_sigma\u001b[0m \u001b[0;34m-\u001b[0m \u001b[0mK\u001b[0m\u001b[0;34m.\u001b[0m\u001b[0msquare\u001b[0m\u001b[0;34m(\u001b[0m\u001b[0mz_mean\u001b[0m\u001b[0;34m)\u001b[0m \u001b[0;34m-\u001b[0m \u001b[0mK\u001b[0m\u001b[0;34m.\u001b[0m\u001b[0mexp\u001b[0m\u001b[0;34m(\u001b[0m\u001b[0mz_log_sigma\u001b[0m\u001b[0;34m)\u001b[0m\u001b[0;34m,\u001b[0m \u001b[0maxis\u001b[0m\u001b[0;34m=\u001b[0m\u001b[0;34m-\u001b[0m\u001b[0;36m1\u001b[0m\u001b[0;34m)\u001b[0m\u001b[0;34m\u001b[0m\u001b[0m\n\u001b[1;32m      7\u001b[0m     \u001b[0;32mreturn\u001b[0m \u001b[0mxent_loss\u001b[0m \u001b[0;34m+\u001b[0m \u001b[0mkl_loss\u001b[0m\u001b[0;34m\u001b[0m\u001b[0m\n",
      "\u001b[0;31mNameError\u001b[0m: name 'objectives' is not defined"
     ]
    }
   ],
   "source": [
    "## We train the model using the end-to-end model, with a custom loss function: the sum of a reconstruction term, \n",
    "## and the KL divergence regularization term.\n",
    "\n",
    "def vae_loss(x, x_decoded_mean):\n",
    "    xent_loss = objectives.binary_crossentropy(x, x_decoded_mean)\n",
    "    kl_loss = - 0.5 * K.mean(1 + z_log_sigma - K.square(z_mean) - K.exp(z_log_sigma), axis=-1)\n",
    "    return xent_loss + kl_loss\n",
    "\n",
    "vae.compile(optimizer='rmsprop', loss=vae_loss)"
   ]
  },
  {
   "cell_type": "code",
   "execution_count": null,
   "metadata": {},
   "outputs": [],
   "source": [
    "## training the model\n",
    "\n",
    "(x_train, y_train), (x_test, y_test) = mnist.load_data()\n",
    "\n",
    "x_train = x_train.astype('float32') / 255.\n",
    "x_test = x_test.astype('float32') / 255.\n",
    "x_train = x_train.reshape((len(x_train), np.prod(x_train.shape[1:])))\n",
    "x_test = x_test.reshape((len(x_test), np.prod(x_test.shape[1:])))\n",
    "\n",
    "vae.fit(x_train, x_train,\n",
    "        shuffle=True,\n",
    "        epochs=epochs,\n",
    "        batch_size=batch_size,\n",
    "        validation_data=(x_test, x_test))"
   ]
  },
  {
   "cell_type": "code",
   "execution_count": null,
   "metadata": {},
   "outputs": [],
   "source": [
    "x_test_encoded = encoder.predict(x_test, batch_size=batch_size)\n",
    "plt.figure(figsize=(6, 6))\n",
    "plt.scatter(x_test_encoded[:, 0], x_test_encoded[:, 1], c=y_test)\n",
    "plt.colorbar()\n",
    "plt.show()"
   ]
  },
  {
   "cell_type": "code",
   "execution_count": null,
   "metadata": {},
   "outputs": [],
   "source": [
    "## since VAE is a generative model, wwe can use it to generate new digits\n",
    "\n",
    "# display a 2D manifold of the digits\n",
    "n = 15  # figure with 15x15 digits\n",
    "digit_size = 28\n",
    "figure = np.zeros((digit_size * n, digit_size * n))\n",
    "# we will sample n points within [-15, 15] standard deviations\n",
    "grid_x = np.linspace(-15, 15, n)\n",
    "grid_y = np.linspace(-15, 15, n)\n",
    "\n",
    "for i, yi in enumerate(grid_x):\n",
    "    for j, xi in enumerate(grid_y):\n",
    "        z_sample = np.array([[xi, yi]]) * epsilon_std\n",
    "        x_decoded = generator.predict(z_sample)\n",
    "        digit = x_decoded[0].reshape(digit_size, digit_size)\n",
    "        figure[i * digit_size: (i + 1) * digit_size,\n",
    "               j * digit_size: (j + 1) * digit_size] = digit\n",
    "\n",
    "plt.figure(figsize=(10, 10))\n",
    "plt.imshow(figure)\n",
    "plt.show()"
   ]
  },
  {
   "cell_type": "code",
   "execution_count": null,
   "metadata": {},
   "outputs": [],
   "source": []
  },
  {
   "cell_type": "code",
   "execution_count": null,
   "metadata": {},
   "outputs": [],
   "source": []
  },
  {
   "cell_type": "code",
   "execution_count": null,
   "metadata": {},
   "outputs": [],
   "source": []
  },
  {
   "cell_type": "code",
   "execution_count": null,
   "metadata": {},
   "outputs": [],
   "source": []
  },
  {
   "cell_type": "code",
   "execution_count": null,
   "metadata": {},
   "outputs": [],
   "source": []
  }
 ],
 "metadata": {
  "kernelspec": {
   "display_name": "Python 3",
   "language": "python",
   "name": "python3"
  },
  "language_info": {
   "codemirror_mode": {
    "name": "ipython",
    "version": 3
   },
   "file_extension": ".py",
   "mimetype": "text/x-python",
   "name": "python",
   "nbconvert_exporter": "python",
   "pygments_lexer": "ipython3",
   "version": "3.5.2"
  }
 },
 "nbformat": 4,
 "nbformat_minor": 2
}
