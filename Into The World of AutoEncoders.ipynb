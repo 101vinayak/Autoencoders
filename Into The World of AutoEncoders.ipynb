{
 "cells": [
  {
   "cell_type": "markdown",
   "metadata": {},
   "source": [
    "# Building Autoencoders in Keras\n",
    "    \n",
    "    A Simple autoencoder based on a fully-connected layer\n",
    "    A Sparse autoencoder\n",
    "    A Deep fully-connected autoencoder\n",
    "    A Deep convolutional autoencoder\n",
    "    An Image denoising model\n",
    "    A Sequence-to-sequence autoencoder\n",
    "    A Variational autoencoder"
   ]
  },
  {
   "cell_type": "code",
   "execution_count": 1,
   "metadata": {},
   "outputs": [],
   "source": [
    "## \"Autoencoding\" is a data compression algorithm where the compression and decompression functions are \n",
    "## 1) data-specific, 2) lossy, and 3) learned automatically from examples rather than engineered by a human.\n",
    "## Additionally, in almost all contexts where the term \"autoencoder\" is used, the compression and decompression\n",
    "## functions are implemented with neural networks."
   ]
  },
  {
   "cell_type": "code",
   "execution_count": 2,
   "metadata": {},
   "outputs": [],
   "source": [
    "## One setback is Autoencoders are lossy, i.e. they losse sm info when compressing data,\n",
    "## and so the new i8mage is a little degraded"
   ]
  },
  {
   "cell_type": "markdown",
   "metadata": {},
   "source": [
    "### A Simple autoencoder"
   ]
  },
  {
   "cell_type": "code",
   "execution_count": 4,
   "metadata": {},
   "outputs": [],
   "source": [
    "from tensorflow.keras.layers import Input, Dense\n",
    "from tensorflow.keras.models import Model\n",
    "\n",
    "# this is the size of our encoded representations\n",
    "encoding_dim = 32  # 32 floats -> compression of factor 24.5, assuming the input is 784 floats\n",
    "\n",
    "# this is our input placeholder\n",
    "input_img = Input(shape=(784,))\n",
    "# \"encoded\" is the encoded representation of the input\n",
    "encoded = Dense(encoding_dim, activation='relu')(input_img)\n",
    "# \"decoded\" is the lossy reconstruction of the input\n",
    "decoded = Dense(784, activation='sigmoid')(encoded)\n",
    "\n",
    "# this model maps an input to its reconstruction\n",
    "autoencoder = Model(input_img, decoded)"
   ]
  },
  {
   "cell_type": "code",
   "execution_count": 13,
   "metadata": {},
   "outputs": [],
   "source": [
    "# this model maps an input to its encoded representation\n",
    "encoder = Model(input_img, encoded)\n",
    "\n",
    "# create a placeholder for an encoded (32-dimensional) input\n",
    "encoded_input = Input(shape=(encoding_dim,))\n",
    "# retrieve the last layer of the autoencoder model\n",
    "decoder_layer = autoencoder.layers[-1]\n",
    "# create the decoder model\n",
    "decoder = Model(encoded_input, decoder_layer(encoded_input))\n",
    "\n",
    "autoencoder.compile(optimizer='adam', loss='mse')"
   ]
  },
  {
   "cell_type": "code",
   "execution_count": 14,
   "metadata": {},
   "outputs": [
    {
     "name": "stdout",
     "output_type": "stream",
     "text": [
      "(60000, 784)\n",
      "(10000, 784)\n"
     ]
    }
   ],
   "source": [
    "## Loading the dataset\n",
    "\n",
    "from keras.datasets import mnist\n",
    "import numpy as np\n",
    "(x_train, _), (x_test, _) = mnist.load_data()\n",
    "\n",
    "x_train = x_train.astype('float32') / 255.\n",
    "x_test = x_test.astype('float32') / 255.\n",
    "x_train = x_train.reshape((len(x_train), np.prod(x_train.shape[1:])))\n",
    "x_test = x_test.reshape((len(x_test), np.prod(x_test.shape[1:])))\n",
    "\n",
    "print (x_train.shape)\n",
    "print (x_test.shape)"
   ]
  },
  {
   "cell_type": "code",
   "execution_count": 15,
   "metadata": {
    "scrolled": true
   },
   "outputs": [
    {
     "name": "stdout",
     "output_type": "stream",
     "text": [
      "Train on 60000 samples, validate on 10000 samples\n",
      "Epoch 1/50\n",
      "60000/60000 [==============================] - 2s 27us/sample - loss: 0.0678 - val_loss: 0.0412\n",
      "Epoch 2/50\n",
      "60000/60000 [==============================] - 1s 19us/sample - loss: 0.0348 - val_loss: 0.0295\n",
      "Epoch 3/50\n",
      "60000/60000 [==============================] - 1s 19us/sample - loss: 0.0266 - val_loss: 0.0235\n",
      "Epoch 4/50\n",
      "60000/60000 [==============================] - 1s 19us/sample - loss: 0.0217 - val_loss: 0.0195\n",
      "Epoch 5/50\n",
      "60000/60000 [==============================] - 1s 19us/sample - loss: 0.0183 - val_loss: 0.0166\n",
      "Epoch 6/50\n",
      "60000/60000 [==============================] - 1s 19us/sample - loss: 0.0160 - val_loss: 0.0147\n",
      "Epoch 7/50\n",
      "60000/60000 [==============================] - 1s 19us/sample - loss: 0.0143 - val_loss: 0.0133\n",
      "Epoch 8/50\n",
      "60000/60000 [==============================] - 1s 19us/sample - loss: 0.0131 - val_loss: 0.0122\n",
      "Epoch 9/50\n",
      "60000/60000 [==============================] - 1s 20us/sample - loss: 0.0122 - val_loss: 0.0116\n",
      "Epoch 10/50\n",
      "60000/60000 [==============================] - 1s 20us/sample - loss: 0.0116 - val_loss: 0.0111\n",
      "Epoch 11/50\n",
      "60000/60000 [==============================] - 1s 19us/sample - loss: 0.0113 - val_loss: 0.0108\n",
      "Epoch 12/50\n",
      "60000/60000 [==============================] - 1s 20us/sample - loss: 0.0110 - val_loss: 0.0105\n",
      "Epoch 13/50\n",
      "60000/60000 [==============================] - 1s 19us/sample - loss: 0.0108 - val_loss: 0.0104\n",
      "Epoch 14/50\n",
      "60000/60000 [==============================] - 1s 19us/sample - loss: 0.0107 - val_loss: 0.0103\n",
      "Epoch 15/50\n",
      "60000/60000 [==============================] - 1s 19us/sample - loss: 0.0106 - val_loss: 0.0102\n",
      "Epoch 16/50\n",
      "60000/60000 [==============================] - 1s 19us/sample - loss: 0.0105 - val_loss: 0.0102\n",
      "Epoch 17/50\n",
      "60000/60000 [==============================] - 1s 19us/sample - loss: 0.0105 - val_loss: 0.0101\n",
      "Epoch 18/50\n",
      "60000/60000 [==============================] - 1s 19us/sample - loss: 0.0104 - val_loss: 0.0101\n",
      "Epoch 19/50\n",
      "60000/60000 [==============================] - 1s 19us/sample - loss: 0.0104 - val_loss: 0.0100\n",
      "Epoch 20/50\n",
      "60000/60000 [==============================] - 1s 19us/sample - loss: 0.0104 - val_loss: 0.0100\n",
      "Epoch 21/50\n",
      "60000/60000 [==============================] - 1s 20us/sample - loss: 0.0103 - val_loss: 0.0100\n",
      "Epoch 22/50\n",
      "60000/60000 [==============================] - 1s 19us/sample - loss: 0.0103 - val_loss: 0.0099\n",
      "Epoch 23/50\n",
      "60000/60000 [==============================] - 1s 20us/sample - loss: 0.0103 - val_loss: 0.0100\n",
      "Epoch 24/50\n",
      "60000/60000 [==============================] - 1s 20us/sample - loss: 0.0102 - val_loss: 0.0099\n",
      "Epoch 25/50\n",
      "60000/60000 [==============================] - 1s 19us/sample - loss: 0.0102 - val_loss: 0.0099\n",
      "Epoch 26/50\n",
      "60000/60000 [==============================] - 1s 20us/sample - loss: 0.0102 - val_loss: 0.0099\n",
      "Epoch 27/50\n",
      "60000/60000 [==============================] - 1s 21us/sample - loss: 0.0102 - val_loss: 0.0099\n",
      "Epoch 28/50\n",
      "60000/60000 [==============================] - 1s 21us/sample - loss: 0.0102 - val_loss: 0.0098\n",
      "Epoch 29/50\n",
      "60000/60000 [==============================] - 1s 20us/sample - loss: 0.0101 - val_loss: 0.0098\n",
      "Epoch 30/50\n",
      "60000/60000 [==============================] - 1s 20us/sample - loss: 0.0101 - val_loss: 0.0098\n",
      "Epoch 31/50\n",
      "60000/60000 [==============================] - 1s 18us/sample - loss: 0.0101 - val_loss: 0.0098\n",
      "Epoch 32/50\n",
      "60000/60000 [==============================] - 1s 19us/sample - loss: 0.0101 - val_loss: 0.0098\n",
      "Epoch 33/50\n",
      "60000/60000 [==============================] - 1s 18us/sample - loss: 0.0101 - val_loss: 0.0098\n",
      "Epoch 34/50\n",
      "60000/60000 [==============================] - 1s 18us/sample - loss: 0.0101 - val_loss: 0.0098\n",
      "Epoch 35/50\n",
      "60000/60000 [==============================] - 1s 18us/sample - loss: 0.0101 - val_loss: 0.0098\n",
      "Epoch 36/50\n",
      "60000/60000 [==============================] - 1s 18us/sample - loss: 0.0101 - val_loss: 0.0097\n",
      "Epoch 37/50\n",
      "60000/60000 [==============================] - 1s 18us/sample - loss: 0.0100 - val_loss: 0.0097\n",
      "Epoch 38/50\n",
      "60000/60000 [==============================] - 1s 19us/sample - loss: 0.0100 - val_loss: 0.0097\n",
      "Epoch 39/50\n",
      "60000/60000 [==============================] - 1s 19us/sample - loss: 0.0100 - val_loss: 0.0097\n",
      "Epoch 40/50\n",
      "60000/60000 [==============================] - 1s 19us/sample - loss: 0.0100 - val_loss: 0.0097\n",
      "Epoch 41/50\n",
      "60000/60000 [==============================] - 1s 20us/sample - loss: 0.0100 - val_loss: 0.0097\n",
      "Epoch 42/50\n",
      "60000/60000 [==============================] - 1s 20us/sample - loss: 0.0100 - val_loss: 0.0097\n",
      "Epoch 43/50\n",
      "60000/60000 [==============================] - 1s 20us/sample - loss: 0.0100 - val_loss: 0.0097\n",
      "Epoch 44/50\n",
      "60000/60000 [==============================] - 1s 19us/sample - loss: 0.0100 - val_loss: 0.0097\n",
      "Epoch 45/50\n",
      "60000/60000 [==============================] - 1s 19us/sample - loss: 0.0100 - val_loss: 0.0097\n",
      "Epoch 46/50\n",
      "60000/60000 [==============================] - 1s 20us/sample - loss: 0.0100 - val_loss: 0.0097\n",
      "Epoch 47/50\n",
      "60000/60000 [==============================] - 1s 19us/sample - loss: 0.0100 - val_loss: 0.0097\n",
      "Epoch 48/50\n",
      "60000/60000 [==============================] - 1s 19us/sample - loss: 0.0100 - val_loss: 0.0097\n",
      "Epoch 49/50\n",
      "60000/60000 [==============================] - 1s 19us/sample - loss: 0.0100 - val_loss: 0.0097\n",
      "Epoch 50/50\n",
      "60000/60000 [==============================] - 1s 19us/sample - loss: 0.0099 - val_loss: 0.0097\n"
     ]
    },
    {
     "data": {
      "text/plain": [
       "<tensorflow.python.keras.callbacks.History at 0x7fc1a806cdd8>"
      ]
     },
     "execution_count": 15,
     "metadata": {},
     "output_type": "execute_result"
    }
   ],
   "source": [
    "## training the model\n",
    "\n",
    "autoencoder.fit(x_train, x_train,\n",
    "                epochs=50,\n",
    "                batch_size=256,\n",
    "                shuffle=True,\n",
    "                validation_data=(x_test, x_test))"
   ]
  },
  {
   "cell_type": "code",
   "execution_count": 16,
   "metadata": {},
   "outputs": [
    {
     "data": {
      "image/png": "[encoded data removed]",
      "text/plain": [
       "<Figure size 1440x288 with 20 Axes>"
      ]
     },
     "metadata": {
      "needs_background": "light"
     },
     "output_type": "display_data"
    }
   ],
   "source": [
    "# encode and decode some digits\n",
    "# note that we take them from the *test* set\n",
    "encoded_imgs = encoder.predict(x_test)\n",
    "decoded_imgs = decoder.predict(encoded_imgs)\n",
    "\n",
    "# use Matplotlib (don't ask)\n",
    "import matplotlib.pyplot as plt\n",
    "\n",
    "n = 10  # how many digits we will display\n",
    "plt.figure(figsize=(20, 4))\n",
    "for i in range(n):\n",
    "    # display original\n",
    "    ax = plt.subplot(2, n, i + 1)\n",
    "    plt.imshow(x_test[i].reshape(28, 28))\n",
    "    plt.gray()\n",
    "    ax.get_xaxis().set_visible(False)\n",
    "    ax.get_yaxis().set_visible(False)\n",
    "\n",
    "    # display reconstruction\n",
    "    ax = plt.subplot(2, n, i + 1 + n)\n",
    "    plt.imshow(decoded_imgs[i].reshape(28, 28))\n",
    "    plt.gray()\n",
    "    ax.get_xaxis().set_visible(False)\n",
    "    ax.get_yaxis().set_visible(False)\n",
    "plt.show()"
   ]
  },
  {
   "cell_type": "code",
   "execution_count": 27,
   "metadata": {},
   "outputs": [],
   "source": [
    "def plot_imgs(decoded_imgs):\n",
    "    \n",
    "    n = 10  # how many digits we will display\n",
    "    plt.figure(figsize=(20, 4))\n",
    "    for i in range(n):\n",
    "        # display original\n",
    "        ax = plt.subplot(2, n, i + 1)\n",
    "        plt.imshow(x_test[i].reshape(28, 28))\n",
    "        plt.gray()\n",
    "        ax.get_xaxis().set_visible(False)\n",
    "        ax.get_yaxis().set_visible(False)\n",
    "\n",
    "        # display reconstruction\n",
    "        ax = plt.subplot(2, n, i + 1 + n)\n",
    "        plt.imshow(decoded_imgs[i].reshape(28, 28))\n",
    "        plt.gray()\n",
    "        ax.get_xaxis().set_visible(False)\n",
    "        ax.get_yaxis().set_visible(False)\n",
    "    plt.show()"
   ]
  },
  {
   "cell_type": "markdown",
   "metadata": {},
   "source": [
    "### Adding a sparsity constraint on the encoded representations"
   ]
  },
  {
   "cell_type": "code",
   "execution_count": 11,
   "metadata": {},
   "outputs": [],
   "source": [
    "## What typically happens is that the hidden layer is learning an approx. of PCA (principal component analysis).\n",
    "## But another way to constrain the representations to be compact is to add a sparsity contraint on the activity\n",
    "## of the hidden representations, so fewer units would \"fire\" at a given time.\n",
    "## In Keras, this can be done by adding an activity_regularizer to our Dense layer"
   ]
  },
  {
   "cell_type": "code",
   "execution_count": 18,
   "metadata": {},
   "outputs": [],
   "source": [
    "from tensorflow.keras import regularizers\n",
    "\n",
    "encoding_dim = 32\n",
    "\n",
    "input_img = Input(shape=(784,))\n",
    "# add a Dense layer with a L1 activity regularizer\n",
    "encoded = Dense(encoding_dim, activation='relu',\n",
    "                activity_regularizer=regularizers.l1(10e-5))(input_img)\n",
    "decoded = Dense(784, activation='sigmoid')(encoded)\n",
    "\n",
    "autoencoder = Model(input_img, decoded)"
   ]
  },
  {
   "cell_type": "code",
   "execution_count": 19,
   "metadata": {
    "scrolled": true
   },
   "outputs": [
    {
     "name": "stdout",
     "output_type": "stream",
     "text": [
      "Train on 60000 samples, validate on 10000 samples\n",
      "Epoch 1/50\n",
      "60000/60000 [==============================] - 2s 29us/sample - loss: 0.0772 - val_loss: 0.0463\n",
      "Epoch 2/50\n",
      "60000/60000 [==============================] - 1s 19us/sample - loss: 0.0402 - val_loss: 0.0349\n",
      "Epoch 3/50\n",
      "60000/60000 [==============================] - 1s 19us/sample - loss: 0.0322 - val_loss: 0.0292\n",
      "Epoch 4/50\n",
      "60000/60000 [==============================] - 1s 20us/sample - loss: 0.0275 - val_loss: 0.0253\n",
      "Epoch 5/50\n",
      "60000/60000 [==============================] - 1s 20us/sample - loss: 0.0244 - val_loss: 0.0228\n",
      "Epoch 6/50\n",
      "60000/60000 [==============================] - 1s 20us/sample - loss: 0.0222 - val_loss: 0.0209\n",
      "Epoch 7/50\n",
      "60000/60000 [==============================] - 1s 19us/sample - loss: 0.0206 - val_loss: 0.0196\n",
      "Epoch 8/50\n",
      "60000/60000 [==============================] - 1s 19us/sample - loss: 0.0195 - val_loss: 0.0187\n",
      "Epoch 9/50\n",
      "60000/60000 [==============================] - 1s 20us/sample - loss: 0.0187 - val_loss: 0.0181\n",
      "Epoch 10/50\n",
      "60000/60000 [==============================] - 1s 21us/sample - loss: 0.0181 - val_loss: 0.0175\n",
      "Epoch 11/50\n",
      "60000/60000 [==============================] - 1s 20us/sample - loss: 0.0177 - val_loss: 0.0172\n",
      "Epoch 12/50\n",
      "60000/60000 [==============================] - 1s 20us/sample - loss: 0.0173 - val_loss: 0.0168\n",
      "Epoch 13/50\n",
      "60000/60000 [==============================] - 1s 19us/sample - loss: 0.0170 - val_loss: 0.0165\n",
      "Epoch 14/50\n",
      "60000/60000 [==============================] - 1s 19us/sample - loss: 0.0167 - val_loss: 0.0163\n",
      "Epoch 15/50\n",
      "60000/60000 [==============================] - 1s 20us/sample - loss: 0.0165 - val_loss: 0.0161\n",
      "Epoch 16/50\n",
      "60000/60000 [==============================] - 1s 19us/sample - loss: 0.0162 - val_loss: 0.0158\n",
      "Epoch 17/50\n",
      "60000/60000 [==============================] - 1s 20us/sample - loss: 0.0160 - val_loss: 0.0156\n",
      "Epoch 18/50\n",
      "60000/60000 [==============================] - 1s 21us/sample - loss: 0.0158 - val_loss: 0.0155\n",
      "Epoch 19/50\n",
      "60000/60000 [==============================] - 1s 19us/sample - loss: 0.0157 - val_loss: 0.0153\n",
      "Epoch 20/50\n",
      "60000/60000 [==============================] - 1s 19us/sample - loss: 0.0155 - val_loss: 0.0151\n",
      "Epoch 21/50\n",
      "60000/60000 [==============================] - 1s 18us/sample - loss: 0.0154 - val_loss: 0.0150\n",
      "Epoch 22/50\n",
      "60000/60000 [==============================] - 1s 19us/sample - loss: 0.0152 - val_loss: 0.0149\n",
      "Epoch 23/50\n",
      "60000/60000 [==============================] - 1s 20us/sample - loss: 0.0151 - val_loss: 0.0147\n",
      "Epoch 24/50\n",
      "60000/60000 [==============================] - 1s 20us/sample - loss: 0.0150 - val_loss: 0.0147\n",
      "Epoch 25/50\n",
      "60000/60000 [==============================] - 1s 20us/sample - loss: 0.0149 - val_loss: 0.0146\n",
      "Epoch 26/50\n",
      "60000/60000 [==============================] - 1s 20us/sample - loss: 0.0148 - val_loss: 0.0145\n",
      "Epoch 27/50\n",
      "60000/60000 [==============================] - 1s 20us/sample - loss: 0.0147 - val_loss: 0.0144\n",
      "Epoch 28/50\n",
      "60000/60000 [==============================] - 1s 19us/sample - loss: 0.0146 - val_loss: 0.0143\n",
      "Epoch 29/50\n",
      "60000/60000 [==============================] - 1s 21us/sample - loss: 0.0145 - val_loss: 0.0142\n",
      "Epoch 30/50\n",
      "60000/60000 [==============================] - 3s 44us/sample - loss: 0.0144 - val_loss: 0.0141\n",
      "Epoch 31/50\n",
      "60000/60000 [==============================] - 5s 89us/sample - loss: 0.0143 - val_loss: 0.0140\n",
      "Epoch 32/50\n",
      "60000/60000 [==============================] - 5s 81us/sample - loss: 0.0143 - val_loss: 0.0139\n",
      "Epoch 33/50\n",
      "60000/60000 [==============================] - 5s 80us/sample - loss: 0.0142 - val_loss: 0.0139\n",
      "Epoch 34/50\n",
      "60000/60000 [==============================] - 5s 76us/sample - loss: 0.0141 - val_loss: 0.0138\n",
      "Epoch 35/50\n",
      "60000/60000 [==============================] - 5s 82us/sample - loss: 0.0141 - val_loss: 0.0138\n",
      "Epoch 36/50\n",
      "60000/60000 [==============================] - 5s 86us/sample - loss: 0.0140 - val_loss: 0.0137\n",
      "Epoch 37/50\n",
      "60000/60000 [==============================] - 5s 84us/sample - loss: 0.0139 - val_loss: 0.0136\n",
      "Epoch 38/50\n",
      "60000/60000 [==============================] - 5s 86us/sample - loss: 0.0139 - val_loss: 0.0136\n",
      "Epoch 39/50\n",
      "60000/60000 [==============================] - 5s 85us/sample - loss: 0.0138 - val_loss: 0.0135\n",
      "Epoch 40/50\n",
      "60000/60000 [==============================] - 5s 89us/sample - loss: 0.0138 - val_loss: 0.0135\n",
      "Epoch 41/50\n",
      "60000/60000 [==============================] - 5s 85us/sample - loss: 0.0137 - val_loss: 0.0134\n",
      "Epoch 42/50\n",
      "60000/60000 [==============================] - 5s 86us/sample - loss: 0.0137 - val_loss: 0.0134\n",
      "Epoch 43/50\n",
      "60000/60000 [==============================] - 5s 85us/sample - loss: 0.0136 - val_loss: 0.0133\n",
      "Epoch 44/50\n",
      "60000/60000 [==============================] - 5s 85us/sample - loss: 0.0136 - val_loss: 0.0133\n",
      "Epoch 45/50\n",
      "60000/60000 [==============================] - 6s 92us/sample - loss: 0.0135 - val_loss: 0.0132\n",
      "Epoch 46/50\n",
      "60000/60000 [==============================] - 5s 89us/sample - loss: 0.0135 - val_loss: 0.0132\n",
      "Epoch 47/50\n",
      "60000/60000 [==============================] - 6s 93us/sample - loss: 0.0135 - val_loss: 0.0132\n",
      "Epoch 48/50\n",
      "60000/60000 [==============================] - 5s 91us/sample - loss: 0.0134 - val_loss: 0.0131\n",
      "Epoch 49/50\n",
      "60000/60000 [==============================] - 5s 82us/sample - loss: 0.0134 - val_loss: 0.0131\n",
      "Epoch 50/50\n",
      "60000/60000 [==============================] - 6s 92us/sample - loss: 0.0133 - val_loss: 0.0131\n"
     ]
    },
    {
     "data": {
      "text/plain": [
       "<tensorflow.python.keras.callbacks.History at 0x7fc0cb892be0>"
      ]
     },
     "execution_count": 19,
     "metadata": {},
     "output_type": "execute_result"
    }
   ],
   "source": [
    "autoencoder.compile(optimizer='adam', loss='mse')\n",
    "\n",
    "## training the model\n",
    "\n",
    "autoencoder.fit(x_train, x_train,\n",
    "                epochs=50,\n",
    "                batch_size=256,\n",
    "                shuffle=True,\n",
    "                validation_data=(x_test, x_test))"
   ]
  },
  {
   "cell_type": "code",
   "execution_count": 20,
   "metadata": {},
   "outputs": [
    {
     "data": {
      "image/png": "[encoded data removed]",
      "text/plain": [
       "<Figure size 1440x288 with 20 Axes>"
      ]
     },
     "metadata": {
      "needs_background": "light"
     },
     "output_type": "display_data"
    }
   ],
   "source": [
    "# encode and decode some digits\n",
    "# note that we take them from the *test* set\n",
    "encoded_imgs = encoder.predict(x_test)\n",
    "decoded_imgs = decoder.predict(encoded_imgs)\n",
    "\n",
    "# use Matplotlib (don't ask)\n",
    "import matplotlib.pyplot as plt\n",
    "\n",
    "n = 10  # how many digits we will display\n",
    "plt.figure(figsize=(20, 4))\n",
    "for i in range(n):\n",
    "    # display original\n",
    "    ax = plt.subplot(2, n, i + 1)\n",
    "    plt.imshow(x_test[i].reshape(28, 28))\n",
    "    plt.gray()\n",
    "    ax.get_xaxis().set_visible(False)\n",
    "    ax.get_yaxis().set_visible(False)\n",
    "\n",
    "    # display reconstruction\n",
    "    ax = plt.subplot(2, n, i + 1 + n)\n",
    "    plt.imshow(decoded_imgs[i].reshape(28, 28))\n",
    "    plt.gray()\n",
    "    ax.get_xaxis().set_visible(False)\n",
    "    ax.get_yaxis().set_visible(False)\n",
    "plt.show()"
   ]
  },
  {
   "cell_type": "markdown",
   "metadata": {},
   "source": [
    "### Deep autoencoder"
   ]
  },
  {
   "cell_type": "code",
   "execution_count": 21,
   "metadata": {},
   "outputs": [],
   "source": [
    "## We do not have to limit ourselves to a single layer as encoder or decoder, \n",
    "## we could instead use a stack of layers"
   ]
  },
  {
   "cell_type": "code",
   "execution_count": 22,
   "metadata": {},
   "outputs": [],
   "source": [
    "input_img = Input(shape=(784,))\n",
    "encoded = Dense(128, activation='relu')(input_img)\n",
    "encoded = Dense(64, activation='relu')(encoded)\n",
    "encoded = Dense(32, activation='relu')(encoded)\n",
    "\n",
    "decoded = Dense(64, activation='relu')(encoded)\n",
    "decoded = Dense(128, activation='relu')(decoded)\n",
    "decoded = Dense(784, activation='sigmoid')(decoded)"
   ]
  },
  {
   "cell_type": "code",
   "execution_count": 24,
   "metadata": {
    "scrolled": true
   },
   "outputs": [
    {
     "name": "stdout",
     "output_type": "stream",
     "text": [
      "Train on 60000 samples, validate on 10000 samples\n",
      "Epoch 1/100\n",
      "60000/60000 [==============================] - 11s 192us/sample - loss: 0.0641 - val_loss: 0.0383\n",
      "Epoch 2/100\n",
      "60000/60000 [==============================] - 9s 145us/sample - loss: 0.0319 - val_loss: 0.0262\n",
      "Epoch 3/100\n",
      "60000/60000 [==============================] - 8s 141us/sample - loss: 0.0237 - val_loss: 0.0211\n",
      "Epoch 4/100\n",
      "60000/60000 [==============================] - 9s 145us/sample - loss: 0.0203 - val_loss: 0.0184\n",
      "Epoch 5/100\n",
      "60000/60000 [==============================] - 9s 145us/sample - loss: 0.0181 - val_loss: 0.0169\n",
      "Epoch 6/100\n",
      "60000/60000 [==============================] - 9s 147us/sample - loss: 0.0168 - val_loss: 0.0158\n",
      "Epoch 7/100\n",
      "60000/60000 [==============================] - 9s 143us/sample - loss: 0.0158 - val_loss: 0.0150\n",
      "Epoch 8/100\n",
      "60000/60000 [==============================] - 9s 143us/sample - loss: 0.0150 - val_loss: 0.0143\n",
      "Epoch 9/100\n",
      "60000/60000 [==============================] - 8s 137us/sample - loss: 0.0144 - val_loss: 0.0136\n",
      "Epoch 10/100\n",
      "60000/60000 [==============================] - 8s 138us/sample - loss: 0.0138 - val_loss: 0.0132\n",
      "Epoch 11/100\n",
      "60000/60000 [==============================] - 8s 138us/sample - loss: 0.0133 - val_loss: 0.0128\n",
      "Epoch 12/100\n",
      "60000/60000 [==============================] - 8s 138us/sample - loss: 0.0129 - val_loss: 0.0125\n",
      "Epoch 13/100\n",
      "60000/60000 [==============================] - 8s 137us/sample - loss: 0.0126 - val_loss: 0.0121\n",
      "Epoch 14/100\n",
      "60000/60000 [==============================] - 5s 84us/sample - loss: 0.0122 - val_loss: 0.0117\n",
      "Epoch 15/100\n",
      "60000/60000 [==============================] - 2s 39us/sample - loss: 0.0119 - val_loss: 0.0115\n",
      "Epoch 16/100\n",
      "60000/60000 [==============================] - 2s 39us/sample - loss: 0.0116 - val_loss: 0.0112\n",
      "Epoch 17/100\n",
      "60000/60000 [==============================] - 2s 37us/sample - loss: 0.0113 - val_loss: 0.0110\n",
      "Epoch 18/100\n",
      "60000/60000 [==============================] - 2s 32us/sample - loss: 0.0110 - val_loss: 0.0107\n",
      "Epoch 19/100\n",
      "60000/60000 [==============================] - 2s 32us/sample - loss: 0.0108 - val_loss: 0.0106\n",
      "Epoch 20/100\n",
      "60000/60000 [==============================] - 2s 32us/sample - loss: 0.0105 - val_loss: 0.0103\n",
      "Epoch 21/100\n",
      "60000/60000 [==============================] - 2s 32us/sample - loss: 0.0103 - val_loss: 0.0099\n",
      "Epoch 22/100\n",
      "60000/60000 [==============================] - 2s 32us/sample - loss: 0.0101 - val_loss: 0.0098\n",
      "Epoch 23/100\n",
      "60000/60000 [==============================] - 2s 32us/sample - loss: 0.0099 - val_loss: 0.0097\n",
      "Epoch 24/100\n",
      "60000/60000 [==============================] - 2s 32us/sample - loss: 0.0098 - val_loss: 0.0095\n",
      "Epoch 25/100\n",
      "60000/60000 [==============================] - 2s 32us/sample - loss: 0.0096 - val_loss: 0.0094\n",
      "Epoch 26/100\n",
      "60000/60000 [==============================] - 2s 32us/sample - loss: 0.0095 - val_loss: 0.0093\n",
      "Epoch 27/100\n",
      "60000/60000 [==============================] - 2s 32us/sample - loss: 0.0094 - val_loss: 0.0091\n",
      "Epoch 28/100\n",
      "60000/60000 [==============================] - 2s 32us/sample - loss: 0.0092 - val_loss: 0.0090\n",
      "Epoch 29/100\n",
      "60000/60000 [==============================] - 2s 32us/sample - loss: 0.0091 - val_loss: 0.0090\n",
      "Epoch 30/100\n",
      "60000/60000 [==============================] - 2s 32us/sample - loss: 0.0090 - val_loss: 0.0089\n",
      "Epoch 31/100\n",
      "60000/60000 [==============================] - 2s 32us/sample - loss: 0.0089 - val_loss: 0.0088\n",
      "Epoch 32/100\n",
      "60000/60000 [==============================] - 2s 32us/sample - loss: 0.0088 - val_loss: 0.0087\n",
      "Epoch 33/100\n",
      "60000/60000 [==============================] - 2s 32us/sample - loss: 0.0087 - val_loss: 0.0086\n",
      "Epoch 34/100\n",
      "60000/60000 [==============================] - 2s 32us/sample - loss: 0.0086 - val_loss: 0.0084\n",
      "Epoch 35/100\n",
      "60000/60000 [==============================] - 2s 32us/sample - loss: 0.0085 - val_loss: 0.0083\n",
      "Epoch 36/100\n",
      "60000/60000 [==============================] - 2s 32us/sample - loss: 0.0085 - val_loss: 0.0084\n",
      "Epoch 37/100\n",
      "60000/60000 [==============================] - 2s 32us/sample - loss: 0.0084 - val_loss: 0.0082\n",
      "Epoch 38/100\n",
      "60000/60000 [==============================] - 2s 32us/sample - loss: 0.0083 - val_loss: 0.0082\n",
      "Epoch 39/100\n",
      "60000/60000 [==============================] - 2s 32us/sample - loss: 0.0082 - val_loss: 0.0082\n",
      "Epoch 40/100\n",
      "60000/60000 [==============================] - 2s 32us/sample - loss: 0.0081 - val_loss: 0.0080\n",
      "Epoch 41/100\n",
      "60000/60000 [==============================] - 2s 32us/sample - loss: 0.0081 - val_loss: 0.0081\n",
      "Epoch 42/100\n",
      "60000/60000 [==============================] - 2s 32us/sample - loss: 0.0080 - val_loss: 0.0079\n",
      "Epoch 43/100\n",
      "60000/60000 [==============================] - 2s 32us/sample - loss: 0.0079 - val_loss: 0.0079\n",
      "Epoch 44/100\n",
      "60000/60000 [==============================] - 2s 32us/sample - loss: 0.0079 - val_loss: 0.0078\n",
      "Epoch 45/100\n",
      "60000/60000 [==============================] - 2s 32us/sample - loss: 0.0078 - val_loss: 0.0077\n",
      "Epoch 46/100\n",
      "60000/60000 [==============================] - 2s 32us/sample - loss: 0.0078 - val_loss: 0.0077\n",
      "Epoch 47/100\n",
      "60000/60000 [==============================] - 2s 32us/sample - loss: 0.0077 - val_loss: 0.0077\n",
      "Epoch 48/100\n",
      "60000/60000 [==============================] - 2s 32us/sample - loss: 0.0077 - val_loss: 0.0076\n",
      "Epoch 49/100\n",
      "60000/60000 [==============================] - 2s 32us/sample - loss: 0.0076 - val_loss: 0.0077\n",
      "Epoch 50/100\n",
      "60000/60000 [==============================] - 2s 32us/sample - loss: 0.0076 - val_loss: 0.0075\n",
      "Epoch 51/100\n",
      "60000/60000 [==============================] - 2s 32us/sample - loss: 0.0075 - val_loss: 0.0075\n",
      "Epoch 52/100\n",
      "60000/60000 [==============================] - 2s 32us/sample - loss: 0.0075 - val_loss: 0.0074\n",
      "Epoch 53/100\n",
      "60000/60000 [==============================] - 2s 32us/sample - loss: 0.0074 - val_loss: 0.0073\n",
      "Epoch 54/100\n",
      "60000/60000 [==============================] - 2s 32us/sample - loss: 0.0074 - val_loss: 0.0073\n",
      "Epoch 55/100\n",
      "60000/60000 [==============================] - 2s 32us/sample - loss: 0.0073 - val_loss: 0.0074\n",
      "Epoch 56/100\n",
      "60000/60000 [==============================] - 2s 32us/sample - loss: 0.0073 - val_loss: 0.0073\n",
      "Epoch 57/100\n",
      "60000/60000 [==============================] - 2s 32us/sample - loss: 0.0073 - val_loss: 0.0073\n",
      "Epoch 58/100\n",
      "60000/60000 [==============================] - 2s 32us/sample - loss: 0.0072 - val_loss: 0.0072\n",
      "Epoch 59/100\n",
      "60000/60000 [==============================] - 2s 32us/sample - loss: 0.0072 - val_loss: 0.0072\n",
      "Epoch 60/100\n",
      "60000/60000 [==============================] - 2s 32us/sample - loss: 0.0071 - val_loss: 0.0071\n",
      "Epoch 61/100\n",
      "60000/60000 [==============================] - 2s 32us/sample - loss: 0.0071 - val_loss: 0.0071\n",
      "Epoch 62/100\n",
      "60000/60000 [==============================] - 2s 32us/sample - loss: 0.0071 - val_loss: 0.0070\n",
      "Epoch 63/100\n",
      "60000/60000 [==============================] - 2s 32us/sample - loss: 0.0070 - val_loss: 0.0070\n",
      "Epoch 64/100\n",
      "60000/60000 [==============================] - 2s 32us/sample - loss: 0.0070 - val_loss: 0.0071\n",
      "Epoch 65/100\n",
      "60000/60000 [==============================] - 2s 32us/sample - loss: 0.0070 - val_loss: 0.0069\n",
      "Epoch 66/100\n",
      "60000/60000 [==============================] - 2s 32us/sample - loss: 0.0070 - val_loss: 0.0069\n",
      "Epoch 67/100\n",
      "60000/60000 [==============================] - 2s 32us/sample - loss: 0.0069 - val_loss: 0.0070\n",
      "Epoch 68/100\n",
      "60000/60000 [==============================] - 2s 32us/sample - loss: 0.0069 - val_loss: 0.0068\n",
      "Epoch 69/100\n",
      "60000/60000 [==============================] - 2s 32us/sample - loss: 0.0069 - val_loss: 0.0069\n",
      "Epoch 70/100\n",
      "60000/60000 [==============================] - 2s 32us/sample - loss: 0.0068 - val_loss: 0.0068\n",
      "Epoch 71/100\n",
      "60000/60000 [==============================] - 2s 32us/sample - loss: 0.0068 - val_loss: 0.0068\n",
      "Epoch 72/100\n",
      "60000/60000 [==============================] - 2s 32us/sample - loss: 0.0067 - val_loss: 0.0067\n",
      "Epoch 73/100\n",
      "60000/60000 [==============================] - 2s 32us/sample - loss: 0.0067 - val_loss: 0.0067\n",
      "Epoch 74/100\n",
      "60000/60000 [==============================] - 2s 32us/sample - loss: 0.0067 - val_loss: 0.0068\n",
      "Epoch 75/100\n"
     ]
    },
    {
     "name": "stdout",
     "output_type": "stream",
     "text": [
      "60000/60000 [==============================] - 2s 31us/sample - loss: 0.0066 - val_loss: 0.0066\n",
      "Epoch 76/100\n",
      "60000/60000 [==============================] - 2s 31us/sample - loss: 0.0066 - val_loss: 0.0066\n",
      "Epoch 77/100\n",
      "60000/60000 [==============================] - 2s 31us/sample - loss: 0.0066 - val_loss: 0.0065\n",
      "Epoch 78/100\n",
      "60000/60000 [==============================] - 2s 31us/sample - loss: 0.0066 - val_loss: 0.0066\n",
      "Epoch 79/100\n",
      "60000/60000 [==============================] - 2s 31us/sample - loss: 0.0066 - val_loss: 0.0065\n",
      "Epoch 80/100\n",
      "60000/60000 [==============================] - 2s 31us/sample - loss: 0.0065 - val_loss: 0.0065\n",
      "Epoch 81/100\n",
      "60000/60000 [==============================] - 2s 31us/sample - loss: 0.0065 - val_loss: 0.0065\n",
      "Epoch 82/100\n",
      "60000/60000 [==============================] - 2s 31us/sample - loss: 0.0065 - val_loss: 0.0065\n",
      "Epoch 83/100\n",
      "60000/60000 [==============================] - 2s 31us/sample - loss: 0.0065 - val_loss: 0.0064\n",
      "Epoch 84/100\n",
      "60000/60000 [==============================] - 2s 31us/sample - loss: 0.0065 - val_loss: 0.0064\n",
      "Epoch 85/100\n",
      "60000/60000 [==============================] - 2s 31us/sample - loss: 0.0065 - val_loss: 0.0066\n",
      "Epoch 86/100\n",
      "60000/60000 [==============================] - 2s 31us/sample - loss: 0.0064 - val_loss: 0.0065\n",
      "Epoch 87/100\n",
      "60000/60000 [==============================] - 2s 31us/sample - loss: 0.0064 - val_loss: 0.0065\n",
      "Epoch 88/100\n",
      "60000/60000 [==============================] - 2s 31us/sample - loss: 0.0064 - val_loss: 0.0064\n",
      "Epoch 89/100\n",
      "60000/60000 [==============================] - 2s 31us/sample - loss: 0.0064 - val_loss: 0.0064\n",
      "Epoch 90/100\n",
      "60000/60000 [==============================] - 2s 31us/sample - loss: 0.0064 - val_loss: 0.0063\n",
      "Epoch 91/100\n",
      "60000/60000 [==============================] - 2s 31us/sample - loss: 0.0064 - val_loss: 0.0063\n",
      "Epoch 92/100\n",
      "60000/60000 [==============================] - 2s 31us/sample - loss: 0.0063 - val_loss: 0.0064\n",
      "Epoch 93/100\n",
      "60000/60000 [==============================] - 2s 31us/sample - loss: 0.0063 - val_loss: 0.0064\n",
      "Epoch 94/100\n",
      "60000/60000 [==============================] - 2s 31us/sample - loss: 0.0063 - val_loss: 0.0064\n",
      "Epoch 95/100\n",
      "60000/60000 [==============================] - 2s 31us/sample - loss: 0.0063 - val_loss: 0.0064\n",
      "Epoch 96/100\n",
      "60000/60000 [==============================] - 2s 31us/sample - loss: 0.0063 - val_loss: 0.0063\n",
      "Epoch 97/100\n",
      "60000/60000 [==============================] - 2s 31us/sample - loss: 0.0063 - val_loss: 0.0064\n",
      "Epoch 98/100\n",
      "60000/60000 [==============================] - 2s 31us/sample - loss: 0.0063 - val_loss: 0.0064\n",
      "Epoch 99/100\n",
      "60000/60000 [==============================] - 2s 31us/sample - loss: 0.0063 - val_loss: 0.0063\n",
      "Epoch 100/100\n",
      "60000/60000 [==============================] - 2s 31us/sample - loss: 0.0063 - val_loss: 0.0063\n"
     ]
    },
    {
     "data": {
      "text/plain": [
       "<tensorflow.python.keras.callbacks.History at 0x7fc0cb916da0>"
      ]
     },
     "execution_count": 24,
     "metadata": {},
     "output_type": "execute_result"
    }
   ],
   "source": [
    "## trainig n compiling\n",
    "\n",
    "autoencoder = Model(input_img, decoded)\n",
    "autoencoder.compile(optimizer='adam', loss='mse')\n",
    "\n",
    "autoencoder.fit(x_train, x_train,\n",
    "                epochs=100,\n",
    "                batch_size=256,\n",
    "                shuffle=True,\n",
    "                validation_data=(x_test, x_test))"
   ]
  },
  {
   "cell_type": "code",
   "execution_count": 28,
   "metadata": {},
   "outputs": [
    {
     "data": {
      "image/png": "[encoded data removed]",
      "text/plain": [
       "<Figure size 1440x288 with 20 Axes>"
      ]
     },
     "metadata": {
      "needs_background": "light"
     },
     "output_type": "display_data"
    }
   ],
   "source": [
    "decoded_imgs = autoencoder.predict(x_test)\n",
    "\n",
    "plot_imgs(decoded_imgs)"
   ]
  },
  {
   "cell_type": "markdown",
   "metadata": {},
   "source": [
    "### Convolutional autoencoder"
   ]
  },
  {
   "cell_type": "code",
   "execution_count": 26,
   "metadata": {},
   "outputs": [],
   "source": [
    "## Since our inputs are images, it makes sense to use convolutional neural networks (convnets) as encoders \n",
    "## and decoders. In practical settings, autoencoders applied to images are always convolutional autoencoders \n",
    "## --they simply perform much better."
   ]
  },
  {
   "cell_type": "code",
   "execution_count": 32,
   "metadata": {},
   "outputs": [],
   "source": [
    "from tensorflow.keras.layers import Conv2D, MaxPooling2D, Input, Dense, UpSampling2D\n",
    "from tensorflow.keras import Model\n",
    "from tensorflow.keras import backend as K\n",
    "\n",
    "input_img = Input(shape=(28, 28, 1))  # adapt this if using `channels_first` image data format\n",
    "\n",
    "x = Conv2D(16, (3, 3), activation='relu', padding='same')(input_img)\n",
    "x = MaxPooling2D((2, 2), padding='same')(x)\n",
    "x = Conv2D(8, (3, 3), activation='relu', padding='same')(x)\n",
    "x = MaxPooling2D((2, 2), padding='same')(x)\n",
    "x = Conv2D(8, (3, 3), activation='relu', padding='same')(x)\n",
    "encoded = MaxPooling2D((2, 2), padding='same')(x)\n",
    "\n",
    "# at this point the representation is (4, 4, 8) i.e. 128-dimensional\n",
    "\n",
    "x = Conv2D(8, (3, 3), activation='relu', padding='same')(encoded)\n",
    "x = UpSampling2D((2, 2))(x)\n",
    "x = Conv2D(8, (3, 3), activation='relu', padding='same')(x)\n",
    "x = UpSampling2D((2, 2))(x)\n",
    "x = Conv2D(16, (3, 3), activation='relu')(x)\n",
    "x = UpSampling2D((2, 2))(x)\n",
    "decoded = Conv2D(1, (3, 3), activation='sigmoid', padding='same')(x)\n",
    "\n",
    "autoencoder = Model(input_img, decoded)\n",
    "autoencoder.compile(optimizer='adam', loss='mse')"
   ]
  },
  {
   "cell_type": "code",
   "execution_count": 33,
   "metadata": {},
   "outputs": [],
   "source": [
    "from keras.datasets import mnist\n",
    "import numpy as np\n",
    "\n",
    "(x_train, _), (x_test, _) = mnist.load_data()\n",
    "\n",
    "x_train = x_train.astype('float32') / 255.\n",
    "x_test = x_test.astype('float32') / 255.\n",
    "x_train = np.reshape(x_train, (len(x_train), 28, 28, 1))  # adapt this if using `channels_first` image data format\n",
    "x_test = np.reshape(x_test, (len(x_test), 28, 28, 1))  # adapt this if using `channels_first` image data format"
   ]
  },
  {
   "cell_type": "code",
   "execution_count": 43,
   "metadata": {
    "scrolled": true
   },
   "outputs": [
    {
     "name": "stdout",
     "output_type": "stream",
     "text": [
      "Train on 60000 samples, validate on 10000 samples\n",
      "Epoch 1/50\n",
      "60000/60000 [==============================] - 81s 1ms/sample - loss: 0.1120 - val_loss: 0.1140\n",
      "Epoch 2/50\n",
      "60000/60000 [==============================] - 79s 1ms/sample - loss: 0.1120 - val_loss: 0.1140\n",
      "Epoch 3/50\n",
      "60000/60000 [==============================] - 84s 1ms/sample - loss: 0.1120 - val_loss: 0.1140\n",
      "Epoch 4/50\n",
      "60000/60000 [==============================] - 84s 1ms/sample - loss: 0.1120 - val_loss: 0.1140\n",
      "Epoch 5/50\n",
      "60000/60000 [==============================] - 81s 1ms/sample - loss: 0.1120 - val_loss: 0.1140\n",
      "Epoch 6/50\n",
      "60000/60000 [==============================] - 83s 1ms/sample - loss: 0.1120 - val_loss: 0.1140\n",
      "Epoch 7/50\n",
      "60000/60000 [==============================] - 80s 1ms/sample - loss: 0.1120 - val_loss: 0.1140\n",
      "Epoch 8/50\n",
      "60000/60000 [==============================] - 78s 1ms/sample - loss: 0.1120 - val_loss: 0.1140\n",
      "Epoch 9/50\n",
      "60000/60000 [==============================] - 76s 1ms/sample - loss: 0.1120 - val_loss: 0.1140\n",
      "Epoch 10/50\n",
      "60000/60000 [==============================] - 75s 1ms/sample - loss: 0.1120 - val_loss: 0.1140\n",
      "Epoch 11/50\n",
      "60000/60000 [==============================] - 85s 1ms/sample - loss: 0.1120 - val_loss: 0.1140\n",
      "Epoch 12/50\n",
      "60000/60000 [==============================] - 77s 1ms/sample - loss: 0.1120 - val_loss: 0.1140\n",
      "Epoch 13/50\n",
      "60000/60000 [==============================] - 78s 1ms/sample - loss: 0.1120 - val_loss: 0.1140\n",
      "Epoch 14/50\n",
      "60000/60000 [==============================] - 80s 1ms/sample - loss: 0.1120 - val_loss: 0.1140\n",
      "Epoch 15/50\n",
      "60000/60000 [==============================] - 78s 1ms/sample - loss: 0.1120 - val_loss: 0.1140\n",
      "Epoch 16/50\n",
      "60000/60000 [==============================] - 79s 1ms/sample - loss: 0.1120 - val_loss: 0.1140\n",
      "Epoch 17/50\n",
      "60000/60000 [==============================] - 78s 1ms/sample - loss: 0.1120 - val_loss: 0.1140\n",
      "Epoch 18/50\n",
      "60000/60000 [==============================] - 77s 1ms/sample - loss: 0.1120 - val_loss: 0.1140\n",
      "Epoch 19/50\n",
      "60000/60000 [==============================] - 81s 1ms/sample - loss: 0.1120 - val_loss: 0.1140\n",
      "Epoch 20/50\n",
      "60000/60000 [==============================] - 76s 1ms/sample - loss: 0.1120 - val_loss: 0.1140\n",
      "Epoch 21/50\n",
      "60000/60000 [==============================] - 77s 1ms/sample - loss: 0.1120 - val_loss: 0.1140\n",
      "Epoch 22/50\n",
      "60000/60000 [==============================] - 77s 1ms/sample - loss: 0.1120 - val_loss: 0.1140\n",
      "Epoch 23/50\n",
      "60000/60000 [==============================] - 77s 1ms/sample - loss: 0.1120 - val_loss: 0.1140\n",
      "Epoch 24/50\n",
      "60000/60000 [==============================] - 78s 1ms/sample - loss: 0.1120 - val_loss: 0.1140\n",
      "Epoch 25/50\n",
      "60000/60000 [==============================] - 79s 1ms/sample - loss: 0.1120 - val_loss: 0.1140\n",
      "Epoch 26/50\n",
      "60000/60000 [==============================] - 76s 1ms/sample - loss: 0.1120 - val_loss: 0.1140\n",
      "Epoch 27/50\n",
      "60000/60000 [==============================] - 74s 1ms/sample - loss: 0.1120 - val_loss: 0.1140\n",
      "Epoch 28/50\n",
      "60000/60000 [==============================] - 74s 1ms/sample - loss: 0.1120 - val_loss: 0.1140\n",
      "Epoch 29/50\n",
      "60000/60000 [==============================] - 72s 1ms/sample - loss: 0.1120 - val_loss: 0.1140\n",
      "Epoch 30/50\n",
      "60000/60000 [==============================] - 73s 1ms/sample - loss: 0.1120 - val_loss: 0.1140\n",
      "Epoch 31/50\n",
      "60000/60000 [==============================] - 72s 1ms/sample - loss: 0.1120 - val_loss: 0.1140\n",
      "Epoch 32/50\n",
      "60000/60000 [==============================] - 71s 1ms/sample - loss: 0.1120 - val_loss: 0.1140\n",
      "Epoch 33/50\n",
      "60000/60000 [==============================] - 71s 1ms/sample - loss: 0.1120 - val_loss: 0.1140\n",
      "Epoch 34/50\n",
      "60000/60000 [==============================] - 71s 1ms/sample - loss: 0.1120 - val_loss: 0.1140\n",
      "Epoch 35/50\n",
      "60000/60000 [==============================] - 71s 1ms/sample - loss: 0.1120 - val_loss: 0.1140\n",
      "Epoch 36/50\n",
      "60000/60000 [==============================] - 71s 1ms/sample - loss: 0.1120 - val_loss: 0.1140\n",
      "Epoch 37/50\n",
      "60000/60000 [==============================] - 71s 1ms/sample - loss: 0.1120 - val_loss: 0.1140\n",
      "Epoch 38/50\n",
      "60000/60000 [==============================] - 71s 1ms/sample - loss: 0.1120 - val_loss: 0.1140\n",
      "Epoch 39/50\n",
      "60000/60000 [==============================] - 69s 1ms/sample - loss: 0.1120 - val_loss: 0.1140\n",
      "Epoch 40/50\n",
      "60000/60000 [==============================] - 71s 1ms/sample - loss: 0.1120 - val_loss: 0.1140\n",
      "Epoch 41/50\n",
      "60000/60000 [==============================] - 71s 1ms/sample - loss: 0.1120 - val_loss: 0.1140\n",
      "Epoch 42/50\n",
      "60000/60000 [==============================] - 70s 1ms/sample - loss: 0.1120 - val_loss: 0.1140\n",
      "Epoch 43/50\n",
      "60000/60000 [==============================] - 71s 1ms/sample - loss: 0.1120 - val_loss: 0.1140\n",
      "Epoch 44/50\n",
      "60000/60000 [==============================] - 69s 1ms/sample - loss: 0.1120 - val_loss: 0.1140\n",
      "Epoch 45/50\n",
      "60000/60000 [==============================] - 71s 1ms/sample - loss: 0.1120 - val_loss: 0.1140\n",
      "Epoch 46/50\n",
      "60000/60000 [==============================] - 70s 1ms/sample - loss: 0.1120 - val_loss: 0.1140\n",
      "Epoch 47/50\n",
      "60000/60000 [==============================] - 71s 1ms/sample - loss: 0.1120 - val_loss: 0.1140\n",
      "Epoch 48/50\n",
      "60000/60000 [==============================] - 71s 1ms/sample - loss: 0.1120 - val_loss: 0.1140\n",
      "Epoch 49/50\n",
      "60000/60000 [==============================] - 75s 1ms/sample - loss: 0.1120 - val_loss: 0.1140\n",
      "Epoch 50/50\n",
      "60000/60000 [==============================] - 78s 1ms/sample - loss: 0.1120 - val_loss: 0.1140\n"
     ]
    },
    {
     "data": {
      "text/plain": [
       "<tensorflow.python.keras.callbacks.History at 0x7fc0b82269b0>"
      ]
     },
     "execution_count": 43,
     "metadata": {},
     "output_type": "execute_result"
    }
   ],
   "source": [
    "from tensorflow.keras.callbacks import TensorBoard\n",
    "\n",
    "autoencoder.fit(x_train, x_train,\n",
    "                epochs=50,\n",
    "                batch_size=128,\n",
    "                shuffle=True,\n",
    "                validation_data=(x_test, x_test),\n",
    "                callbacks=[TensorBoard(log_dir='/tmp/autoencoder')])"
   ]
  },
  {
   "cell_type": "code",
   "execution_count": 44,
   "metadata": {
    "scrolled": true
   },
   "outputs": [
    {
     "data": {
      "image/png": "[encoded data removed]",
      "text/plain": [
       "<Figure size 1440x288 with 19 Axes>"
      ]
     },
     "metadata": {
      "needs_background": "light"
     },
     "output_type": "display_data"
    }
   ],
   "source": [
    "decoded_imgs = autoencoder.predict(x_test)\n",
    "\n",
    "n = 10\n",
    "plt.figure(figsize=(20, 4))\n",
    "for i in range(n):\n",
    "    # display original\n",
    "    ax = plt.subplot(2, n, i+1)\n",
    "    plt.imshow(x_test[i].reshape(28, 28))\n",
    "    plt.gray()\n",
    "    ax.get_xaxis().set_visible(False)\n",
    "    ax.get_yaxis().set_visible(False)\n",
    "\n",
    "    # display reconstruction\n",
    "    ax = plt.subplot(2, n, i + n)\n",
    "    plt.imshow(decoded_imgs[i].reshape(28, 28))\n",
    "    plt.gray()\n",
    "    ax.get_xaxis().set_visible(False)\n",
    "    ax.get_yaxis().set_visible(False)\n",
    "plt.show()\n"
   ]
  },
  {
   "cell_type": "markdown",
   "metadata": {},
   "source": [
    "### Image Denoising"
   ]
  },
  {
   "cell_type": "code",
   "execution_count": 45,
   "metadata": {},
   "outputs": [],
   "source": [
    "from keras.datasets import mnist\n",
    "import numpy as np\n",
    "\n",
    "(x_train, _), (x_test, _) = mnist.load_data()\n",
    "\n",
    "x_train = x_train.astype('float32') / 255.\n",
    "x_test = x_test.astype('float32') / 255.\n",
    "x_train = np.reshape(x_train, (len(x_train), 28, 28, 1))  # adapt this if using `channels_first` image data format\n",
    "x_test = np.reshape(x_test, (len(x_test), 28, 28, 1))  # adapt this if using `channels_first` image data format\n",
    "\n",
    "## adding noise\n",
    "noise_factor = 0.5\n",
    "x_train_noisy = x_train + noise_factor * np.random.normal(loc=0.0, scale=1.0, size=x_train.shape) \n",
    "x_test_noisy = x_test + noise_factor * np.random.normal(loc=0.0, scale=1.0, size=x_test.shape) \n",
    "\n",
    "x_train_noisy = np.clip(x_train_noisy, 0., 1.)\n",
    "x_test_noisy = np.clip(x_test_noisy, 0., 1.)"
   ]
  },
  {
   "cell_type": "code",
   "execution_count": 46,
   "metadata": {},
   "outputs": [
    {
     "data": {
      "image/png": "[encoded data removed]",
      "text/plain": [
       "<Figure size 1440x144 with 10 Axes>"
      ]
     },
     "metadata": {
      "needs_background": "light"
     },
     "output_type": "display_data"
    }
   ],
   "source": [
    "## the noisy images look like:\n",
    "\n",
    "n = 10\n",
    "plt.figure(figsize=(20, 2))\n",
    "for i in range(n):\n",
    "    ax = plt.subplot(1, n, i+1)\n",
    "    plt.imshow(x_test_noisy[i].reshape(28, 28))\n",
    "    plt.gray()\n",
    "    ax.get_xaxis().set_visible(False)\n",
    "    ax.get_yaxis().set_visible(False)\n",
    "plt.show()"
   ]
  },
  {
   "cell_type": "code",
   "execution_count": 47,
   "metadata": {},
   "outputs": [],
   "source": [
    "input_img = Input(shape=(28, 28, 1))  # adapt this if using `channels_first` image data format\n",
    "\n",
    "x = Conv2D(32, (3, 3), activation='relu', padding='same')(input_img)\n",
    "x = MaxPooling2D((2, 2), padding='same')(x)\n",
    "x = Conv2D(32, (3, 3), activation='relu', padding='same')(x)\n",
    "encoded = MaxPooling2D((2, 2), padding='same')(x)\n",
    "\n",
    "# at this point the representation is (7, 7, 32)\n",
    "\n",
    "x = Conv2D(32, (3, 3), activation='relu', padding='same')(encoded)\n",
    "x = UpSampling2D((2, 2))(x)\n",
    "x = Conv2D(32, (3, 3), activation='relu', padding='same')(x)\n",
    "x = UpSampling2D((2, 2))(x)\n",
    "decoded = Conv2D(1, (3, 3), activation='sigmoid', padding='same')(x)\n",
    "\n",
    "autoencoder = Model(input_img, decoded)\n",
    "autoencoder.compile(optimizer='adam', loss='mse')"
   ]
  },
  {
   "cell_type": "code",
   "execution_count": 48,
   "metadata": {},
   "outputs": [
    {
     "name": "stdout",
     "output_type": "stream",
     "text": [
      "Train on 60000 samples, validate on 10000 samples\n",
      "Epoch 1/100\n",
      "  128/60000 [..............................] - ETA: 2:38:02 - loss: 0.2285WARNING:tensorflow:Method (on_train_batch_end) is slow compared to the batch update (0.434813). Check your callbacks.\n",
      "19456/60000 [========>.....................] - ETA: 1:35 - loss: 0.1150"
     ]
    },
    {
     "ename": "KeyboardInterrupt",
     "evalue": "",
     "output_type": "error",
     "traceback": [
      "\u001b[0;31m---------------------------------------------------------------------------\u001b[0m",
      "\u001b[0;31mKeyboardInterrupt\u001b[0m                         Traceback (most recent call last)",
      "\u001b[0;32m<ipython-input-48-da20e16ed7be>\u001b[0m in \u001b[0;36m<module>\u001b[0;34m\u001b[0m\n\u001b[1;32m      4\u001b[0m                 \u001b[0mshuffle\u001b[0m\u001b[0;34m=\u001b[0m\u001b[0;32mTrue\u001b[0m\u001b[0;34m,\u001b[0m\u001b[0;34m\u001b[0m\u001b[0m\n\u001b[1;32m      5\u001b[0m                 \u001b[0mvalidation_data\u001b[0m\u001b[0;34m=\u001b[0m\u001b[0;34m(\u001b[0m\u001b[0mx_test_noisy\u001b[0m\u001b[0;34m,\u001b[0m \u001b[0mx_test\u001b[0m\u001b[0;34m)\u001b[0m\u001b[0;34m,\u001b[0m\u001b[0;34m\u001b[0m\u001b[0m\n\u001b[0;32m----> 6\u001b[0;31m                 callbacks=[TensorBoard(log_dir='/tmp/tb', histogram_freq=0, write_graph=False)])\n\u001b[0m",
      "\u001b[0;32m~/.local/lib/python3.5/site-packages/tensorflow_core/python/keras/engine/training.py\u001b[0m in \u001b[0;36mfit\u001b[0;34m(self, x, y, batch_size, epochs, verbose, callbacks, validation_split, validation_data, shuffle, class_weight, sample_weight, initial_epoch, steps_per_epoch, validation_steps, validation_freq, max_queue_size, workers, use_multiprocessing, **kwargs)\u001b[0m\n\u001b[1;32m    817\u001b[0m         \u001b[0mmax_queue_size\u001b[0m\u001b[0;34m=\u001b[0m\u001b[0mmax_queue_size\u001b[0m\u001b[0;34m,\u001b[0m\u001b[0;34m\u001b[0m\u001b[0m\n\u001b[1;32m    818\u001b[0m         \u001b[0mworkers\u001b[0m\u001b[0;34m=\u001b[0m\u001b[0mworkers\u001b[0m\u001b[0;34m,\u001b[0m\u001b[0;34m\u001b[0m\u001b[0m\n\u001b[0;32m--> 819\u001b[0;31m         use_multiprocessing=use_multiprocessing)\n\u001b[0m\u001b[1;32m    820\u001b[0m \u001b[0;34m\u001b[0m\u001b[0m\n\u001b[1;32m    821\u001b[0m   def evaluate(self,\n",
      "\u001b[0;32m~/.local/lib/python3.5/site-packages/tensorflow_core/python/keras/engine/training_v2.py\u001b[0m in \u001b[0;36mfit\u001b[0;34m(self, model, x, y, batch_size, epochs, verbose, callbacks, validation_split, validation_data, shuffle, class_weight, sample_weight, initial_epoch, steps_per_epoch, validation_steps, validation_freq, max_queue_size, workers, use_multiprocessing, **kwargs)\u001b[0m\n\u001b[1;32m    340\u001b[0m                 \u001b[0mmode\u001b[0m\u001b[0;34m=\u001b[0m\u001b[0mModeKeys\u001b[0m\u001b[0;34m.\u001b[0m\u001b[0mTRAIN\u001b[0m\u001b[0;34m,\u001b[0m\u001b[0;34m\u001b[0m\u001b[0m\n\u001b[1;32m    341\u001b[0m                 \u001b[0mtraining_context\u001b[0m\u001b[0;34m=\u001b[0m\u001b[0mtraining_context\u001b[0m\u001b[0;34m,\u001b[0m\u001b[0;34m\u001b[0m\u001b[0m\n\u001b[0;32m--> 342\u001b[0;31m                 total_epochs=epochs)\n\u001b[0m\u001b[1;32m    343\u001b[0m             \u001b[0mcbks\u001b[0m\u001b[0;34m.\u001b[0m\u001b[0mmake_logs\u001b[0m\u001b[0;34m(\u001b[0m\u001b[0mmodel\u001b[0m\u001b[0;34m,\u001b[0m \u001b[0mepoch_logs\u001b[0m\u001b[0;34m,\u001b[0m \u001b[0mtraining_result\u001b[0m\u001b[0;34m,\u001b[0m \u001b[0mModeKeys\u001b[0m\u001b[0;34m.\u001b[0m\u001b[0mTRAIN\u001b[0m\u001b[0;34m)\u001b[0m\u001b[0;34m\u001b[0m\u001b[0m\n\u001b[1;32m    344\u001b[0m \u001b[0;34m\u001b[0m\u001b[0m\n",
      "\u001b[0;32m~/.local/lib/python3.5/site-packages/tensorflow_core/python/keras/engine/training_v2.py\u001b[0m in \u001b[0;36mrun_one_epoch\u001b[0;34m(model, iterator, execution_function, dataset_size, batch_size, strategy, steps_per_epoch, num_samples, mode, training_context, total_epochs)\u001b[0m\n\u001b[1;32m    179\u001b[0m             batch_end=step * batch_size + current_batch_size)\n\u001b[1;32m    180\u001b[0m       \u001b[0mcbks\u001b[0m\u001b[0;34m.\u001b[0m\u001b[0mmake_logs\u001b[0m\u001b[0;34m(\u001b[0m\u001b[0mmodel\u001b[0m\u001b[0;34m,\u001b[0m \u001b[0mbatch_logs\u001b[0m\u001b[0;34m,\u001b[0m \u001b[0mbatch_outs\u001b[0m\u001b[0;34m,\u001b[0m \u001b[0mmode\u001b[0m\u001b[0;34m)\u001b[0m\u001b[0;34m\u001b[0m\u001b[0m\n\u001b[0;32m--> 181\u001b[0;31m       \u001b[0mstep\u001b[0m \u001b[0;34m+=\u001b[0m \u001b[0;36m1\u001b[0m\u001b[0;34m\u001b[0m\u001b[0m\n\u001b[0m\u001b[1;32m    182\u001b[0m \u001b[0;34m\u001b[0m\u001b[0m\n\u001b[1;32m    183\u001b[0m     \u001b[0;32mif\u001b[0m \u001b[0mcallbacks\u001b[0m\u001b[0;34m.\u001b[0m\u001b[0mmodel\u001b[0m\u001b[0;34m.\u001b[0m\u001b[0mstop_training\u001b[0m\u001b[0;34m:\u001b[0m\u001b[0;34m\u001b[0m\u001b[0m\n",
      "\u001b[0;32m/usr/lib/python3.5/contextlib.py\u001b[0m in \u001b[0;36m__exit__\u001b[0;34m(self, type, value, traceback)\u001b[0m\n\u001b[1;32m     64\u001b[0m         \u001b[0;32mif\u001b[0m \u001b[0mtype\u001b[0m \u001b[0;32mis\u001b[0m \u001b[0;32mNone\u001b[0m\u001b[0;34m:\u001b[0m\u001b[0;34m\u001b[0m\u001b[0m\n\u001b[1;32m     65\u001b[0m             \u001b[0;32mtry\u001b[0m\u001b[0;34m:\u001b[0m\u001b[0;34m\u001b[0m\u001b[0m\n\u001b[0;32m---> 66\u001b[0;31m                 \u001b[0mnext\u001b[0m\u001b[0;34m(\u001b[0m\u001b[0mself\u001b[0m\u001b[0;34m.\u001b[0m\u001b[0mgen\u001b[0m\u001b[0;34m)\u001b[0m\u001b[0;34m\u001b[0m\u001b[0m\n\u001b[0m\u001b[1;32m     67\u001b[0m             \u001b[0;32mexcept\u001b[0m \u001b[0mStopIteration\u001b[0m\u001b[0;34m:\u001b[0m\u001b[0;34m\u001b[0m\u001b[0m\n\u001b[1;32m     68\u001b[0m                 \u001b[0;32mreturn\u001b[0m\u001b[0;34m\u001b[0m\u001b[0m\n",
      "\u001b[0;32m~/.local/lib/python3.5/site-packages/tensorflow_core/python/keras/engine/training_v2.py\u001b[0m in \u001b[0;36mon_batch\u001b[0;34m(self, step, mode, size)\u001b[0m\n\u001b[1;32m    787\u001b[0m           self.callbacks._call_batch_hook(\n\u001b[1;32m    788\u001b[0m               mode, 'end', step, batch_logs)\n\u001b[0;32m--> 789\u001b[0;31m           \u001b[0mself\u001b[0m\u001b[0;34m.\u001b[0m\u001b[0mprogbar\u001b[0m\u001b[0;34m.\u001b[0m\u001b[0mon_batch_end\u001b[0m\u001b[0;34m(\u001b[0m\u001b[0mstep\u001b[0m\u001b[0;34m,\u001b[0m \u001b[0mbatch_logs\u001b[0m\u001b[0;34m)\u001b[0m\u001b[0;34m\u001b[0m\u001b[0m\n\u001b[0m",
      "\u001b[0;32m~/.local/lib/python3.5/site-packages/tensorflow_core/python/keras/callbacks.py\u001b[0m in \u001b[0;36mon_batch_end\u001b[0;34m(self, batch, logs)\u001b[0m\n\u001b[1;32m    779\u001b[0m     \u001b[0;31m# will be handled by on_epoch_end.\u001b[0m\u001b[0;34m\u001b[0m\u001b[0;34m\u001b[0m\u001b[0m\n\u001b[1;32m    780\u001b[0m     \u001b[0;32mif\u001b[0m \u001b[0mself\u001b[0m\u001b[0;34m.\u001b[0m\u001b[0mverbose\u001b[0m \u001b[0;32mand\u001b[0m \u001b[0;34m(\u001b[0m\u001b[0mself\u001b[0m\u001b[0;34m.\u001b[0m\u001b[0mtarget\u001b[0m \u001b[0;32mis\u001b[0m \u001b[0;32mNone\u001b[0m \u001b[0;32mor\u001b[0m \u001b[0mself\u001b[0m\u001b[0;34m.\u001b[0m\u001b[0mseen\u001b[0m \u001b[0;34m<\u001b[0m \u001b[0mself\u001b[0m\u001b[0;34m.\u001b[0m\u001b[0mtarget\u001b[0m\u001b[0;34m)\u001b[0m\u001b[0;34m:\u001b[0m\u001b[0;34m\u001b[0m\u001b[0m\n\u001b[0;32m--> 781\u001b[0;31m       \u001b[0mself\u001b[0m\u001b[0;34m.\u001b[0m\u001b[0mprogbar\u001b[0m\u001b[0;34m.\u001b[0m\u001b[0mupdate\u001b[0m\u001b[0;34m(\u001b[0m\u001b[0mself\u001b[0m\u001b[0;34m.\u001b[0m\u001b[0mseen\u001b[0m\u001b[0;34m,\u001b[0m \u001b[0mself\u001b[0m\u001b[0;34m.\u001b[0m\u001b[0mlog_values\u001b[0m\u001b[0;34m)\u001b[0m\u001b[0;34m\u001b[0m\u001b[0m\n\u001b[0m\u001b[1;32m    782\u001b[0m \u001b[0;34m\u001b[0m\u001b[0m\n\u001b[1;32m    783\u001b[0m   \u001b[0;32mdef\u001b[0m \u001b[0mon_epoch_end\u001b[0m\u001b[0;34m(\u001b[0m\u001b[0mself\u001b[0m\u001b[0;34m,\u001b[0m \u001b[0mepoch\u001b[0m\u001b[0;34m,\u001b[0m \u001b[0mlogs\u001b[0m\u001b[0;34m=\u001b[0m\u001b[0;32mNone\u001b[0m\u001b[0;34m)\u001b[0m\u001b[0;34m:\u001b[0m\u001b[0;34m\u001b[0m\u001b[0m\n",
      "\u001b[0;32m~/.local/lib/python3.5/site-packages/tensorflow_core/python/keras/utils/generic_utils.py\u001b[0m in \u001b[0;36mupdate\u001b[0;34m(self, current, values)\u001b[0m\n\u001b[1;32m    573\u001b[0m \u001b[0;34m\u001b[0m\u001b[0m\n\u001b[1;32m    574\u001b[0m       \u001b[0msys\u001b[0m\u001b[0;34m.\u001b[0m\u001b[0mstdout\u001b[0m\u001b[0;34m.\u001b[0m\u001b[0mwrite\u001b[0m\u001b[0;34m(\u001b[0m\u001b[0minfo\u001b[0m\u001b[0;34m)\u001b[0m\u001b[0;34m\u001b[0m\u001b[0m\n\u001b[0;32m--> 575\u001b[0;31m       \u001b[0msys\u001b[0m\u001b[0;34m.\u001b[0m\u001b[0mstdout\u001b[0m\u001b[0;34m.\u001b[0m\u001b[0mflush\u001b[0m\u001b[0;34m(\u001b[0m\u001b[0;34m)\u001b[0m\u001b[0;34m\u001b[0m\u001b[0m\n\u001b[0m\u001b[1;32m    576\u001b[0m \u001b[0;34m\u001b[0m\u001b[0m\n\u001b[1;32m    577\u001b[0m     \u001b[0;32melif\u001b[0m \u001b[0mself\u001b[0m\u001b[0;34m.\u001b[0m\u001b[0mverbose\u001b[0m \u001b[0;34m==\u001b[0m \u001b[0;36m2\u001b[0m\u001b[0;34m:\u001b[0m\u001b[0;34m\u001b[0m\u001b[0m\n",
      "\u001b[0;32m~/.local/lib/python3.5/site-packages/ipykernel/iostream.py\u001b[0m in \u001b[0;36mflush\u001b[0;34m(self)\u001b[0m\n\u001b[1;32m    349\u001b[0m                 \u001b[0mself\u001b[0m\u001b[0;34m.\u001b[0m\u001b[0mpub_thread\u001b[0m\u001b[0;34m.\u001b[0m\u001b[0mschedule\u001b[0m\u001b[0;34m(\u001b[0m\u001b[0mevt\u001b[0m\u001b[0;34m.\u001b[0m\u001b[0mset\u001b[0m\u001b[0;34m)\u001b[0m\u001b[0;34m\u001b[0m\u001b[0m\n\u001b[1;32m    350\u001b[0m                 \u001b[0;31m# and give a timeout to avoid\u001b[0m\u001b[0;34m\u001b[0m\u001b[0;34m\u001b[0m\u001b[0m\n\u001b[0;32m--> 351\u001b[0;31m                 \u001b[0;32mif\u001b[0m \u001b[0;32mnot\u001b[0m \u001b[0mevt\u001b[0m\u001b[0;34m.\u001b[0m\u001b[0mwait\u001b[0m\u001b[0;34m(\u001b[0m\u001b[0mself\u001b[0m\u001b[0;34m.\u001b[0m\u001b[0mflush_timeout\u001b[0m\u001b[0;34m)\u001b[0m\u001b[0;34m:\u001b[0m\u001b[0;34m\u001b[0m\u001b[0m\n\u001b[0m\u001b[1;32m    352\u001b[0m                     \u001b[0;31m# write directly to __stderr__ instead of warning because\u001b[0m\u001b[0;34m\u001b[0m\u001b[0;34m\u001b[0m\u001b[0m\n\u001b[1;32m    353\u001b[0m                     \u001b[0;31m# if this is happening sys.stderr may be the problem.\u001b[0m\u001b[0;34m\u001b[0m\u001b[0;34m\u001b[0m\u001b[0m\n",
      "\u001b[0;32m/usr/lib/python3.5/threading.py\u001b[0m in \u001b[0;36mwait\u001b[0;34m(self, timeout)\u001b[0m\n\u001b[1;32m    547\u001b[0m             \u001b[0msignaled\u001b[0m \u001b[0;34m=\u001b[0m \u001b[0mself\u001b[0m\u001b[0;34m.\u001b[0m\u001b[0m_flag\u001b[0m\u001b[0;34m\u001b[0m\u001b[0m\n\u001b[1;32m    548\u001b[0m             \u001b[0;32mif\u001b[0m \u001b[0;32mnot\u001b[0m \u001b[0msignaled\u001b[0m\u001b[0;34m:\u001b[0m\u001b[0;34m\u001b[0m\u001b[0m\n\u001b[0;32m--> 549\u001b[0;31m                 \u001b[0msignaled\u001b[0m \u001b[0;34m=\u001b[0m \u001b[0mself\u001b[0m\u001b[0;34m.\u001b[0m\u001b[0m_cond\u001b[0m\u001b[0;34m.\u001b[0m\u001b[0mwait\u001b[0m\u001b[0;34m(\u001b[0m\u001b[0mtimeout\u001b[0m\u001b[0;34m)\u001b[0m\u001b[0;34m\u001b[0m\u001b[0m\n\u001b[0m\u001b[1;32m    550\u001b[0m             \u001b[0;32mreturn\u001b[0m \u001b[0msignaled\u001b[0m\u001b[0;34m\u001b[0m\u001b[0m\n\u001b[1;32m    551\u001b[0m \u001b[0;34m\u001b[0m\u001b[0m\n",
      "\u001b[0;32m/usr/lib/python3.5/threading.py\u001b[0m in \u001b[0;36mwait\u001b[0;34m(self, timeout)\u001b[0m\n\u001b[1;32m    295\u001b[0m             \u001b[0;32melse\u001b[0m\u001b[0;34m:\u001b[0m\u001b[0;34m\u001b[0m\u001b[0m\n\u001b[1;32m    296\u001b[0m                 \u001b[0;32mif\u001b[0m \u001b[0mtimeout\u001b[0m \u001b[0;34m>\u001b[0m \u001b[0;36m0\u001b[0m\u001b[0;34m:\u001b[0m\u001b[0;34m\u001b[0m\u001b[0m\n\u001b[0;32m--> 297\u001b[0;31m                     \u001b[0mgotit\u001b[0m \u001b[0;34m=\u001b[0m \u001b[0mwaiter\u001b[0m\u001b[0;34m.\u001b[0m\u001b[0macquire\u001b[0m\u001b[0;34m(\u001b[0m\u001b[0;32mTrue\u001b[0m\u001b[0;34m,\u001b[0m \u001b[0mtimeout\u001b[0m\u001b[0;34m)\u001b[0m\u001b[0;34m\u001b[0m\u001b[0m\n\u001b[0m\u001b[1;32m    298\u001b[0m                 \u001b[0;32melse\u001b[0m\u001b[0;34m:\u001b[0m\u001b[0;34m\u001b[0m\u001b[0m\n\u001b[1;32m    299\u001b[0m                     \u001b[0mgotit\u001b[0m \u001b[0;34m=\u001b[0m \u001b[0mwaiter\u001b[0m\u001b[0;34m.\u001b[0m\u001b[0macquire\u001b[0m\u001b[0;34m(\u001b[0m\u001b[0;32mFalse\u001b[0m\u001b[0;34m)\u001b[0m\u001b[0;34m\u001b[0m\u001b[0m\n",
      "\u001b[0;31mKeyboardInterrupt\u001b[0m: "
     ]
    }
   ],
   "source": [
    "autoencoder.fit(x_train_noisy, x_train,\n",
    "                epochs=100,\n",
    "                batch_size=128,\n",
    "                shuffle=True,\n",
    "                validation_data=(x_test_noisy, x_test),\n",
    "                callbacks=[TensorBoard(log_dir='/tmp/tb', histogram_freq=0, write_graph=False)])"
   ]
  },
  {
   "cell_type": "code",
   "execution_count": null,
   "metadata": {},
   "outputs": [],
   "source": [
    "decoded_imgs = autoencoder.predict(x_test)\n",
    "\n",
    "plot_imgs(decoded_imgs)"
   ]
  },
  {
   "cell_type": "markdown",
   "metadata": {},
   "source": [
    "### Variational autoencoder (VAE)"
   ]
  },
  {
   "cell_type": "markdown",
   "metadata": {},
   "source": [
    "What is a variational autoencoder, you ask? It's a type of autoencoder with added constraints on the encoded representations being learned. More precisely, it is an autoencoder that learns a latent variable model for its input data. So instead of letting your neural network learn an arbitrary function, you are learning the parameters of a probability distribution modeling your data. If you sample points from this distribution, you can generate new input data samples: a VAE is a \"generative model\".\n",
    "\n",
    "How does a variational autoencoder work?\n",
    "\n",
    "First, an encoder network turns the input samples x into two parameters in a latent space, which we will note z_mean and z_log_sigma. Then, we randomly sample similar points z from the latent normal distribution that is assumed to generate the data, via z = z_mean + exp(z_log_sigma) * epsilon, where epsilon is a random normal tensor. Finally, a decoder network maps these latent space points back to the original input data.\n",
    "\n",
    "The parameters of the model are trained via two loss functions: a reconstruction loss forcing the decoded samples to match the initial inputs (just like in our previous autoencoders), and the KL divergence between the learned latent distribution and the prior distribution, acting as a regularization term. You could actually get rid of this latter term entirely, although it does help in learning well-formed latent spaces and reducing overfitting to the training data."
   ]
  },
  {
   "cell_type": "code",
   "execution_count": null,
   "metadata": {},
   "outputs": [],
   "source": [
    "## encoder model\n",
    "\n",
    "x = Input(batch_shape=(batch_size, original_dim))\n",
    "h = Dense(intermediate_dim, activation='relu')(x)\n",
    "z_mean = Dense(latent_dim)(h)\n",
    "z_log_sigma = Dense(latent_dim)(h)"
   ]
  },
  {
   "cell_type": "code",
   "execution_count": null,
   "metadata": {},
   "outputs": [],
   "source": [
    "def sampling(args):\n",
    "    z_mean, z_log_sigma = args\n",
    "    epsilon = K.random_normal(shape=(batch_size, latent_dim),\n",
    "                              mean=0., std=epsilon_std)\n",
    "    return z_mean + K.exp(z_log_sigma) * epsilon\n",
    "\n",
    "# note that \"output_shape\" isn't necessary with the TensorFlow backend\n",
    "# so you could write `Lambda(sampling)([z_mean, z_log_sigma])`\n",
    "z = Lambda(sampling, output_shape=(latent_dim,))([z_mean, z_log_sigma])"
   ]
  },
  {
   "cell_type": "code",
   "execution_count": null,
   "metadata": {},
   "outputs": [],
   "source": [
    "## mapping the sample latent points\n",
    "\n",
    "decoder_h = Dense(intermediate_dim, activation='relu')\n",
    "decoder_mean = Dense(original_dim, activation='sigmoid')\n",
    "h_decoded = decoder_h(z)\n",
    "x_decoded_mean = decoder_mean(h_decoded)"
   ]
  },
  {
   "cell_type": "code",
   "execution_count": null,
   "metadata": {},
   "outputs": [],
   "source": [
    "## so far we have these 3 models\n",
    "\n",
    "# end-to-end autoencoder\n",
    "vae = Model(x, x_decoded_mean)\n",
    "\n",
    "# encoder, from inputs to latent space\n",
    "encoder = Model(x, z_mean)\n",
    "\n",
    "# generator, from latent space to reconstructed inputs\n",
    "decoder_input = Input(shape=(latent_dim,))\n",
    "_h_decoded = decoder_h(decoder_input)\n",
    "_x_decoded_mean = decoder_mean(_h_decoded)\n",
    "generator = Model(decoder_input, _x_decoded_mean)"
   ]
  },
  {
   "cell_type": "code",
   "execution_count": null,
   "metadata": {},
   "outputs": [],
   "source": [
    "## We train the model using the end-to-end model, with a custom loss function: the sum of a reconstruction term, \n",
    "## and the KL divergence regularization term.\n",
    "\n",
    "def vae_loss(x, x_decoded_mean):\n",
    "    xent_loss = objectives.binary_crossentropy(x, x_decoded_mean)\n",
    "    kl_loss = - 0.5 * K.mean(1 + z_log_sigma - K.square(z_mean) - K.exp(z_log_sigma), axis=-1)\n",
    "    return xent_loss + kl_loss\n",
    "\n",
    "vae.compile(optimizer='rmsprop', loss=vae_loss)"
   ]
  },
  {
   "cell_type": "code",
   "execution_count": null,
   "metadata": {},
   "outputs": [],
   "source": [
    "## training the model\n",
    "\n",
    "(x_train, y_train), (x_test, y_test) = mnist.load_data()\n",
    "\n",
    "x_train = x_train.astype('float32') / 255.\n",
    "x_test = x_test.astype('float32') / 255.\n",
    "x_train = x_train.reshape((len(x_train), np.prod(x_train.shape[1:])))\n",
    "x_test = x_test.reshape((len(x_test), np.prod(x_test.shape[1:])))\n",
    "\n",
    "vae.fit(x_train, x_train,\n",
    "        shuffle=True,\n",
    "        epochs=epochs,\n",
    "        batch_size=batch_size,\n",
    "        validation_data=(x_test, x_test))"
   ]
  },
  {
   "cell_type": "code",
   "execution_count": null,
   "metadata": {},
   "outputs": [],
   "source": [
    "x_test_encoded = encoder.predict(x_test, batch_size=batch_size)\n",
    "plt.figure(figsize=(6, 6))\n",
    "plt.scatter(x_test_encoded[:, 0], x_test_encoded[:, 1], c=y_test)\n",
    "plt.colorbar()\n",
    "plt.show()"
   ]
  },
  {
   "cell_type": "code",
   "execution_count": null,
   "metadata": {},
   "outputs": [],
   "source": [
    "## since VAE is a generative model, wwe can use it to generate new digits\n",
    "\n",
    "# display a 2D manifold of the digits\n",
    "n = 15  # figure with 15x15 digits\n",
    "digit_size = 28\n",
    "figure = np.zeros((digit_size * n, digit_size * n))\n",
    "# we will sample n points within [-15, 15] standard deviations\n",
    "grid_x = np.linspace(-15, 15, n)\n",
    "grid_y = np.linspace(-15, 15, n)\n",
    "\n",
    "for i, yi in enumerate(grid_x):\n",
    "    for j, xi in enumerate(grid_y):\n",
    "        z_sample = np.array([[xi, yi]]) * epsilon_std\n",
    "        x_decoded = generator.predict(z_sample)\n",
    "        digit = x_decoded[0].reshape(digit_size, digit_size)\n",
    "        figure[i * digit_size: (i + 1) * digit_size,\n",
    "               j * digit_size: (j + 1) * digit_size] = digit\n",
    "\n",
    "plt.figure(figsize=(10, 10))\n",
    "plt.imshow(figure)\n",
    "plt.show()"
   ]
  },
  {
   "cell_type": "code",
   "execution_count": null,
   "metadata": {},
   "outputs": [],
   "source": []
  },
  {
   "cell_type": "code",
   "execution_count": null,
   "metadata": {},
   "outputs": [],
   "source": []
  },
  {
   "cell_type": "code",
   "execution_count": null,
   "metadata": {},
   "outputs": [],
   "source": []
  },
  {
   "cell_type": "code",
   "execution_count": null,
   "metadata": {},
   "outputs": [],
   "source": []
  },
  {
   "cell_type": "code",
   "execution_count": null,
   "metadata": {},
   "outputs": [],
   "source": []
  }
 ],
 "metadata": {
  "kernelspec": {
   "display_name": "Python 3",
   "language": "python",
   "name": "python3"
  },
  "language_info": {
   "codemirror_mode": {
    "name": "ipython",
    "version": 3
   },
   "file_extension": ".py",
   "mimetype": "text/x-python",
   "name": "python",
   "nbconvert_exporter": "python",
   "pygments_lexer": "ipython3",
   "version": "3.5.2"
  }
 },
 "nbformat": 4,
 "nbformat_minor": 2
}
